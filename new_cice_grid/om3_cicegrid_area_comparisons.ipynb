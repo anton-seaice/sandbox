{
 "cells": [
  {
   "cell_type": "markdown",
   "id": "6ea95886-15ec-4fde-81ac-461661c8170b",
   "metadata": {},
   "source": [
    "We are going to compare the cice input grid to the cice output grid (areas)"
   ]
  },
  {
   "cell_type": "markdown",
   "id": "22cb46a4-bfc4-414d-bf4d-a6e02e4824a1",
   "metadata": {
    "execution": {
     "iopub.execute_input": "2024-03-08T01:55:11.038410Z",
     "iopub.status.busy": "2024-03-08T01:55:11.035368Z",
     "iopub.status.idle": "2024-03-08T01:55:11.047294Z",
     "shell.execute_reply": "2024-03-08T01:55:11.045869Z",
     "shell.execute_reply.started": "2024-03-08T01:55:11.038352Z"
    }
   },
   "source": [
    "Some arbitrary output from current om3:"
   ]
  },
  {
   "cell_type": "code",
   "execution_count": 1,
   "id": "7681375d-e102-4d50-9a8f-966caeb0f551",
   "metadata": {
    "execution": {
     "iopub.execute_input": "2024-03-08T00:29:12.846483Z",
     "iopub.status.busy": "2024-03-08T00:29:12.845769Z",
     "iopub.status.idle": "2024-03-08T00:29:13.802322Z",
     "shell.execute_reply": "2024-03-08T00:29:13.801314Z",
     "shell.execute_reply.started": "2024-03-08T00:29:12.846435Z"
    }
   },
   "outputs": [
    {
     "name": "stdout",
     "output_type": "stream",
     "text": [
      "/scratch/tm70/as2285/experiments/archive/b_grid/output000\n"
     ]
    }
   ],
   "source": [
    "cd /scratch/tm70/as2285/experiments/archive/b_grid/output000"
   ]
  },
  {
   "cell_type": "code",
   "execution_count": 2,
   "id": "caaef4a5-3ac4-4d44-a262-19e6cc45f411",
   "metadata": {
    "execution": {
     "iopub.execute_input": "2024-03-08T00:29:14.471029Z",
     "iopub.status.busy": "2024-03-08T00:29:14.470299Z",
     "iopub.status.idle": "2024-03-08T00:29:17.241478Z",
     "shell.execute_reply": "2024-03-08T00:29:17.240256Z",
     "shell.execute_reply.started": "2024-03-08T00:29:14.470983Z"
    }
   },
   "outputs": [
    {
     "name": "stdout",
     "output_type": "stream",
     "text": [
      "total 1922852\n",
      "-rw-r----- 1 as2285      1461 Feb 26 10:50 access-om3.err\n",
      "-rw-r----- 1 as2285    132595 Feb 26 10:50 access-om3.out\n",
      "-rw-r----- 1 as2285    154953 Feb 26 10:32 available_diags.000000\n",
      "-rw-rw-r-- 1 as2285      1496 Feb 26 10:32 config.yaml\n",
      "-rw-rw-r-- 1 as2285       440 Feb 26 10:32 datm_in\n",
      "-rw-rw-r-- 1 as2285     84199 Feb 26 10:32 datm.streams.xml\n",
      "-rw-rw-r-- 1 as2285     14257 Feb 26 10:32 diag_table\n",
      "-rw-rw-r-- 1 as2285       249 Feb 26 10:32 drof_in\n",
      "-rw-rw-r-- 1 as2285     18420 Feb 26 10:32 drof.streams.xml\n",
      "-rw-rw-r-- 1 as2285       552 Feb 26 10:32 drv_in\n",
      "-rw-r----- 1 as2285     18687 Feb 26 10:32 env.yaml\n",
      "-rw-rw-r-- 1 as2285     39124 Feb 26 10:32 fd.yaml\n",
      "-rw-r----- 1 as2285   3572009 Feb 26 10:33 GMOM_JRA.cice.h.1958-01-01.nc\n",
      "-rw-r----- 1 as2285   3585127 Feb 26 10:34 GMOM_JRA.cice.h.1958-01-02.nc\n",
      "-rw-r----- 1 as2285   3611244 Feb 26 10:34 GMOM_JRA.cice.h.1958-01-03.nc\n",
      "-rw-r----- 1 as2285   3624474 Feb 26 10:35 GMOM_JRA.cice.h.1958-01-04.nc\n",
      "-rw-r----- 1 as2285   3632763 Feb 26 10:35 GMOM_JRA.cice.h.1958-01-05.nc\n",
      "-rw-r----- 1 as2285   3641050 Feb 26 10:36 GMOM_JRA.cice.h.1958-01-06.nc\n",
      "-rw-r----- 1 as2285   3646143 Feb 26 10:37 GMOM_JRA.cice.h.1958-01-07.nc\n",
      "-rw-r----- 1 as2285   3649699 Feb 26 10:37 GMOM_JRA.cice.h.1958-01-08.nc\n",
      "-rw-r----- 1 as2285   3650756 Feb 26 10:38 GMOM_JRA.cice.h.1958-01-09.nc\n",
      "-rw-r----- 1 as2285   3657922 Feb 26 10:38 GMOM_JRA.cice.h.1958-01-10.nc\n",
      "-rw-r----- 1 as2285   3663664 Feb 26 10:39 GMOM_JRA.cice.h.1958-01-11.nc\n",
      "-rw-r----- 1 as2285   3663786 Feb 26 10:39 GMOM_JRA.cice.h.1958-01-12.nc\n",
      "-rw-r----- 1 as2285   3670900 Feb 26 10:40 GMOM_JRA.cice.h.1958-01-13.nc\n",
      "-rw-r----- 1 as2285   3672807 Feb 26 10:40 GMOM_JRA.cice.h.1958-01-14.nc\n",
      "-rw-r----- 1 as2285   3676543 Feb 26 10:41 GMOM_JRA.cice.h.1958-01-15.nc\n",
      "-rw-r----- 1 as2285   3680364 Feb 26 10:42 GMOM_JRA.cice.h.1958-01-16.nc\n",
      "-rw-r----- 1 as2285   3686259 Feb 26 10:42 GMOM_JRA.cice.h.1958-01-17.nc\n",
      "-rw-r----- 1 as2285   3694772 Feb 26 10:43 GMOM_JRA.cice.h.1958-01-18.nc\n",
      "-rw-r----- 1 as2285   3699473 Feb 26 10:43 GMOM_JRA.cice.h.1958-01-19.nc\n",
      "-rw-r----- 1 as2285   3695793 Feb 26 10:44 GMOM_JRA.cice.h.1958-01-20.nc\n",
      "-rw-r----- 1 as2285   3695880 Feb 26 10:44 GMOM_JRA.cice.h.1958-01-21.nc\n",
      "-rw-r----- 1 as2285   3702274 Feb 26 10:45 GMOM_JRA.cice.h.1958-01-22.nc\n",
      "-rw-r----- 1 as2285   3708358 Feb 26 10:45 GMOM_JRA.cice.h.1958-01-23.nc\n",
      "-rw-r----- 1 as2285   3708597 Feb 26 10:46 GMOM_JRA.cice.h.1958-01-24.nc\n",
      "-rw-r----- 1 as2285   3715191 Feb 26 10:47 GMOM_JRA.cice.h.1958-01-25.nc\n",
      "-rw-r----- 1 as2285   3715728 Feb 26 10:47 GMOM_JRA.cice.h.1958-01-26.nc\n",
      "-rw-r----- 1 as2285   3717860 Feb 26 10:48 GMOM_JRA.cice.h.1958-01-27.nc\n",
      "-rw-r----- 1 as2285   3719742 Feb 26 10:48 GMOM_JRA.cice.h.1958-01-28.nc\n",
      "-rw-r----- 1 as2285   3720736 Feb 26 10:49 GMOM_JRA.cice.h.1958-01-29.nc\n",
      "-rw-r----- 1 as2285   3709150 Feb 26 10:49 GMOM_JRA.cice.h.1958-01-30.nc\n",
      "-rw-r----- 1 as2285   3711416 Feb 26 10:50 GMOM_JRA.cice.h.1958-01-31.nc\n",
      "-rw-r----- 1 as2285  16880874 Feb 26 10:50 GMOM_JRA.cice.h.1958-01.nc\n",
      "-rw-r----- 1 as2285 207362372 Feb 26 10:49 GMOM_JRA.cpl.hx.ocn.24h.avg.1958-01-02-00000.nc\n",
      "-rw-r----- 1 as2285   6913676 Feb 26 10:50 GMOM_JRA.cpl.hx.ocn.24h.avg.1958-02-01-00000.nc\n",
      "-rw-r----- 1 as2285 475259444 Feb 26 10:50 GMOM_JRA.mom6.h.native_1958_01.nc\n",
      "-rw-r----- 1 as2285 160739172 Feb 26 10:50 GMOM_JRA.mom6.h.sfc_1958_01.nc\n",
      "-rw-r----- 1 as2285   8673292 Feb 26 10:50 GMOM_JRA.mom6.h.static.nc\n",
      "-rw-r----- 1 as2285 302435596 Feb 26 10:50 GMOM_JRA.mom6.h.z_1958_01.nc\n",
      "-rw-rw-r-- 1 as2285      3205 Feb 26 10:32 ice_in\n",
      "drwxr-s--- 2 as2285      4096 Feb 26 10:50 \u001b[0m\u001b[01;34minput\u001b[0m/\n",
      "-rw-rw-r-- 1 as2285       366 Feb 26 10:32 input.nml\n",
      "-rw-r----- 1 as2285       320 Feb 26 10:50 job.yaml\n",
      "drwxr-s--- 2 as2285      4096 Feb 26 10:32 \u001b[01;34mlog\u001b[0m/\n",
      "-rw-r----- 1 as2285     46599 Feb 26 10:50 logfile.000000.out\n",
      "drwxr-s--- 2 as2285      4096 Feb 26 10:32 \u001b[01;34mmanifests\u001b[0m/\n",
      "-rw-r----- 1 as2285 659266620 Feb 26 10:33 MOM_IC.nc\n",
      "-rw-rw-r-- 1 as2285     63166 Feb 26 10:32 MOM_input\n",
      "-rw-rw-r-- 1 as2285       289 Feb 26 10:32 MOM_override\n",
      "-rw-r----- 1 as2285    181489 Feb 26 10:32 MOM_parameter_doc.all\n",
      "-rw-r----- 1 as2285      5657 Feb 26 10:32 MOM_parameter_doc.debugging\n",
      "-rw-r----- 1 as2285      4661 Feb 26 10:32 MOM_parameter_doc.layout\n",
      "-rw-r----- 1 as2285     44528 Feb 26 10:32 MOM_parameter_doc.short\n",
      "-rw-rw-r-- 1 as2285     12238 Feb 26 10:32 nuopc.runconfig\n",
      "-rw-rw-r-- 1 as2285       814 Feb 26 10:32 nuopc.runseq\n",
      "-rw-r----- 1 as2285  16445928 Feb 26 10:32 ocean_geometry.nc\n",
      "-rw-r----- 1 as2285      5532 Feb 26 10:50 ocean.stats\n",
      "-rw-r----- 1 as2285     75432 Feb 26 10:50 ocean.stats.nc\n",
      "-rw-r----- 1 as2285     18704 Feb 26 10:32 Vertical_coordinate.nc\n"
     ]
    }
   ],
   "source": [
    "ll"
   ]
  },
  {
   "cell_type": "code",
   "execution_count": 63,
   "id": "8db12960-d626-4468-ba3c-44a3ee2eb8bb",
   "metadata": {
    "execution": {
     "iopub.execute_input": "2024-03-08T02:02:22.488410Z",
     "iopub.status.busy": "2024-03-08T02:02:22.487388Z",
     "iopub.status.idle": "2024-03-08T02:02:22.727495Z",
     "shell.execute_reply": "2024-03-08T02:02:22.726077Z",
     "shell.execute_reply.started": "2024-03-08T02:02:22.488354Z"
    }
   },
   "outputs": [
    {
     "name": "stdout",
     "output_type": "stream",
     "text": [
      "(proc_decomposition)  Processors (X x Y) =   24 x    2\n",
      " ice: total number of blocks is         384\n",
      "  Block size:  nx_block =     18\n",
      "               ny_block =     17\n",
      " send_i2x_per_cat =  F\n",
      " flds_wiso =  F\n",
      " flds_wave =  F\n",
      " (ice_comp_nuopc):(InitializeAdvertise)WARNING: atmiter_ from driver   0.10000D-\n",
      " 01 is overwritting atmiter_conv from cice namelist   0.00000D+00\n",
      " mesh file for cice domain is ./input/access-om2-1deg-ESMFmesh.nc\n",
      " mask file for cice domain is ./input/access-om2-1deg-ESMFmesh.nc\n",
      "(ice_read_nc_xy) fid=   131072, lnrec =        1, varname = kmt\n",
      " (ice_read_nc_xy) min, max, sum =  0.000000000000000E+000\n",
      "   1.00000000000000        69809.0000000000      kmt\n",
      " (ice_read_global_nc) min, max, sum =   -1.35704878172538     \n",
      "   1.57079631462693        11813.6366403900      ulat\n",
      " (ice_read_global_nc) min, max, sum =   -4.88692186772823     \n",
      "   1.39626339077950       -187553.079966456      ulon\n",
      " (ice_read_global_nc) min, max, sum =   -1.57079631462693     \n",
      "   1.57079631462693      -5.684341886080801E-014 angle\n",
      " (popgrid_nc) CICE will calculate angleT, TLON and TLAT\n",
      " (ice_read_global_nc) min, max, sum =    2358707.17123643     \n",
      "   11119492.6644559        809615549024.457      htn\n",
      " (ice_read_global_nc) min, max, sum =   3.147575316642855E-010\n",
      "   11118621.2886605        641430757559.764      hte\n",
      " (Tlatlon) called\n",
      " (NElatlon) called\n",
      "  \n",
      " (NElatlon) min/max ULON:  -279.999997831017        79.9999993802907     \n",
      " (NElatlon) min/max ULAT:  -77.5057094546785        89.9999993028270     \n",
      " (NElatlon) min/max TLON:  -179.972643058819        179.969997977904     \n",
      " (NElatlon) min/max TLAT:  -77.6298951517881        89.7488347928158     \n",
      "  \n",
      " (NElatlon) min/max NLON:  -179.991679872889        179.989481289901     \n",
      " (NElatlon) min/max NLAT:  -77.5061702605370        89.8891499939213     \n",
      " (NElatlon) min/max ELON:  -179.999998605654        179.913681455823     \n",
      " (NElatlon) min/max ELAT:  -77.6294386204564        89.7746200929185     \n",
      " ICE: PIO numiotasks=           1\n",
      " ICE: PIO stride=          48\n",
      " ICE: PIO rearranger=           1\n",
      " ICE: PIO root=           1\n"
     ]
    }
   ],
   "source": [
    "cat log/ice.log | grep -C 20 angleT"
   ]
  },
  {
   "cell_type": "code",
   "execution_count": 16,
   "id": "505c2cfc-b61c-47b1-8c47-aeeb0fddd72b",
   "metadata": {
    "execution": {
     "iopub.execute_input": "2024-03-08T00:32:42.709939Z",
     "iopub.status.busy": "2024-03-08T00:32:42.708907Z",
     "iopub.status.idle": "2024-03-08T00:32:42.714981Z",
     "shell.execute_reply": "2024-03-08T00:32:42.713708Z",
     "shell.execute_reply.started": "2024-03-08T00:32:42.709888Z"
    }
   },
   "outputs": [],
   "source": [
    "import xarray as xr\n",
    "import matplotlib.pyplot as plt"
   ]
  },
  {
   "cell_type": "code",
   "execution_count": 5,
   "id": "a42712aa-fb67-4daf-bf62-d6ca104b1630",
   "metadata": {
    "execution": {
     "iopub.execute_input": "2024-03-08T00:30:12.236783Z",
     "iopub.status.busy": "2024-03-08T00:30:12.235888Z",
     "iopub.status.idle": "2024-03-08T00:30:12.274192Z",
     "shell.execute_reply": "2024-03-08T00:30:12.273506Z",
     "shell.execute_reply.started": "2024-03-08T00:30:12.236733Z"
    }
   },
   "outputs": [],
   "source": [
    "ds = xr.open_dataset('GMOM_JRA.cice.h.1958-01-01.nc')"
   ]
  },
  {
   "cell_type": "code",
   "execution_count": 89,
   "id": "195dd67a-b965-49b2-bd30-86afa5c85964",
   "metadata": {
    "execution": {
     "iopub.execute_input": "2024-03-08T02:59:06.544778Z",
     "iopub.status.busy": "2024-03-08T02:59:06.543723Z",
     "iopub.status.idle": "2024-03-08T02:59:06.796278Z",
     "shell.execute_reply": "2024-03-08T02:59:06.794919Z",
     "shell.execute_reply.started": "2024-03-08T02:59:06.544719Z"
    }
   },
   "outputs": [
    {
     "name": "stdout",
     "output_type": "stream",
     "text": [
      "work/input/grid.nc:\n",
      "  fullpath: /g/data/ik11/inputs/access-om3/0.x.0/1deg/cice/grid.nc\n",
      "  hashes:\n",
      "    binhash: 0952424dafa216e7c5d0f29ef96a7cb8\n",
      "    md5: 1213e346055ee073fe33dc12578d99c6\n",
      "--\n",
      "work/input/ocean_hgrid.nc:\n",
      "  fullpath: /g/data/ik11/inputs/access-om3/0.x.0/1deg/mom/ocean_hgrid.nc\n",
      "  hashes:\n",
      "    binhash: 7f9cf6930cda20f2ba304eef45c2a97d\n",
      "    md5: 51f58be0f4ea6da2cb438a893f95c689\n",
      "--\n",
      "work/input/ocean_vgrid.nc:\n",
      "  fullpath: /g/data/ik11/inputs/access-om3/0.x.0/1deg/mom/ocean_vgrid.nc\n",
      "  hashes:\n",
      "    binhash: 30af5058d31d9133770757144f6bd7cf\n",
      "    md5: a1e0b0b0adc363506ff17a362e83f64a\n"
     ]
    }
   ],
   "source": [
    "cat manifests/input.yaml | grep -A 3 grid.nc"
   ]
  },
  {
   "cell_type": "code",
   "execution_count": 10,
   "id": "50eb4cf7-2dad-4a2d-b4b8-b267855b126d",
   "metadata": {
    "execution": {
     "iopub.execute_input": "2024-03-08T00:31:23.203526Z",
     "iopub.status.busy": "2024-03-08T00:31:23.202282Z",
     "iopub.status.idle": "2024-03-08T00:31:23.548497Z",
     "shell.execute_reply": "2024-03-08T00:31:23.547579Z",
     "shell.execute_reply.started": "2024-03-08T00:31:23.203470Z"
    }
   },
   "outputs": [],
   "source": [
    "grid = xr.open_dataset('/g/data/ik11/inputs/access-om3/0.x.0/1deg/cice/grid.nc')"
   ]
  },
  {
   "cell_type": "code",
   "execution_count": 23,
   "id": "a334daf3-e52d-4082-aa66-00e6dd2e97f7",
   "metadata": {
    "execution": {
     "iopub.execute_input": "2024-03-08T00:33:58.355336Z",
     "iopub.status.busy": "2024-03-08T00:33:58.353281Z",
     "iopub.status.idle": "2024-03-08T00:33:59.412666Z",
     "shell.execute_reply": "2024-03-08T00:33:59.411972Z",
     "shell.execute_reply.started": "2024-03-08T00:33:58.355279Z"
    }
   },
   "outputs": [
    {
     "data": {
      "text/plain": [
       "<matplotlib.colorbar.Colorbar at 0x148deded7520>"
      ]
     },
     "execution_count": 23,
     "metadata": {},
     "output_type": "execute_result"
    },
    {
     "data": {
      "image/png": "[encoded data removed]",
      "text/plain": [
       "<Figure size 640x480 with 2 Axes>"
      ]
     },
     "metadata": {},
     "output_type": "display_data"
    }
   ],
   "source": [
    "plt.pcolor(grid.tarea.values-ds.tarea.values, vmin=-1e6, vmax=1e6)\n",
    "plt.colorbar()"
   ]
  },
  {
   "cell_type": "code",
   "execution_count": 28,
   "id": "e045840c-94fb-4a88-b846-b08eec75860d",
   "metadata": {
    "execution": {
     "iopub.execute_input": "2024-03-08T00:35:59.902017Z",
     "iopub.status.busy": "2024-03-08T00:35:59.901042Z",
     "iopub.status.idle": "2024-03-08T00:36:00.677819Z",
     "shell.execute_reply": "2024-03-08T00:36:00.677064Z",
     "shell.execute_reply.started": "2024-03-08T00:35:59.901966Z"
    }
   },
   "outputs": [
    {
     "data": {
      "text/plain": [
       "<matplotlib.colorbar.Colorbar at 0x148ddfb277c0>"
      ]
     },
     "execution_count": 28,
     "metadata": {},
     "output_type": "execute_result"
    },
    {
     "data": {
      "image/png": "[encoded data removed]",
      "text/plain": [
       "<Figure size 640x480 with 2 Axes>"
      ]
     },
     "metadata": {},
     "output_type": "display_data"
    }
   ],
   "source": [
    "plt.pcolor(grid.uarea.values-ds.uarea.values, vmin=-1e6, vmax=1e6)\n",
    "plt.colorbar()"
   ]
  },
  {
   "cell_type": "markdown",
   "id": "69aa403a-aad1-4d00-a681-85f46ec5b68f",
   "metadata": {},
   "source": [
    "Note that neither match"
   ]
  },
  {
   "cell_type": "markdown",
   "id": "48c36276-fc5d-49a7-963e-19c4db56fcb1",
   "metadata": {},
   "source": [
    "We can also derive areas from mom supergrid"
   ]
  },
  {
   "cell_type": "code",
   "execution_count": 29,
   "id": "e312bc21-431c-4874-88be-801f6c16ee9e",
   "metadata": {
    "execution": {
     "iopub.execute_input": "2024-03-08T00:37:09.393347Z",
     "iopub.status.busy": "2024-03-08T00:37:09.392267Z",
     "iopub.status.idle": "2024-03-08T00:37:09.456298Z",
     "shell.execute_reply": "2024-03-08T00:37:09.455158Z",
     "shell.execute_reply.started": "2024-03-08T00:37:09.393293Z"
    }
   },
   "outputs": [],
   "source": [
    "mom_ds = xr.open_dataset('/g/data/ik11/inputs/access-om3/0.x.0/1deg/mom/ocean_hgrid.nc')"
   ]
  },
  {
   "cell_type": "code",
   "execution_count": 30,
   "id": "9a3ca13a-c2de-4723-8c7b-90e0181fa464",
   "metadata": {
    "execution": {
     "iopub.execute_input": "2024-03-08T00:37:31.817038Z",
     "iopub.status.busy": "2024-03-08T00:37:31.815862Z",
     "iopub.status.idle": "2024-03-08T00:37:31.827090Z",
     "shell.execute_reply": "2024-03-08T00:37:31.825829Z",
     "shell.execute_reply.started": "2024-03-08T00:37:31.816986Z"
    }
   },
   "outputs": [
    {
     "data": {
      "text/html": [
       "<div><svg style=\"position: absolute; width: 0; height: 0; overflow: hidden\">\n",
       "<defs>\n",
       "<symbol id=\"icon-database\" viewBox=\"0 0 32 32\">\n",
       "<path d=\"M16 0c-8.837 0-16 2.239-16 5v4c0 2.761 7.163 5 16 5s16-2.239 16-5v-4c0-2.761-7.163-5-16-5z\"></path>\n",
       "<path d=\"M16 17c-8.837 0-16-2.239-16-5v6c0 2.761 7.163 5 16 5s16-2.239 16-5v-6c0 2.761-7.163 5-16 5z\"></path>\n",
       "<path d=\"M16 26c-8.837 0-16-2.239-16-5v6c0 2.761 7.163 5 16 5s16-2.239 16-5v-6c0 2.761-7.163 5-16 5z\"></path>\n",
       "</symbol>\n",
       "<symbol id=\"icon-file-text2\" viewBox=\"0 0 32 32\">\n",
       "<path d=\"M28.681 7.159c-0.694-0.947-1.662-2.053-2.724-3.116s-2.169-2.030-3.116-2.724c-1.612-1.182-2.393-1.319-2.841-1.319h-15.5c-1.378 0-2.5 1.121-2.5 2.5v27c0 1.378 1.122 2.5 2.5 2.5h23c1.378 0 2.5-1.122 2.5-2.5v-19.5c0-0.448-0.137-1.23-1.319-2.841zM24.543 5.457c0.959 0.959 1.712 1.825 2.268 2.543h-4.811v-4.811c0.718 0.556 1.584 1.309 2.543 2.268zM28 29.5c0 0.271-0.229 0.5-0.5 0.5h-23c-0.271 0-0.5-0.229-0.5-0.5v-27c0-0.271 0.229-0.5 0.5-0.5 0 0 15.499-0 15.5 0v7c0 0.552 0.448 1 1 1h7v19.5z\"></path>\n",
       "<path d=\"M23 26h-14c-0.552 0-1-0.448-1-1s0.448-1 1-1h14c0.552 0 1 0.448 1 1s-0.448 1-1 1z\"></path>\n",
       "<path d=\"M23 22h-14c-0.552 0-1-0.448-1-1s0.448-1 1-1h14c0.552 0 1 0.448 1 1s-0.448 1-1 1z\"></path>\n",
       "<path d=\"M23 18h-14c-0.552 0-1-0.448-1-1s0.448-1 1-1h14c0.552 0 1 0.448 1 1s-0.448 1-1 1z\"></path>\n",
       "</symbol>\n",
       "</defs>\n",
       "</svg>\n",
       "<style>/* CSS stylesheet for displaying xarray objects in jupyterlab.\n",
       " *\n",
       " */\n",
       "\n",
       ":root {\n",
       "  --xr-font-color0: var(--jp-content-font-color0, rgba(0, 0, 0, 1));\n",
       "  --xr-font-color2: var(--jp-content-font-color2, rgba(0, 0, 0, 0.54));\n",
       "  --xr-font-color3: var(--jp-content-font-color3, rgba(0, 0, 0, 0.38));\n",
       "  --xr-border-color: var(--jp-border-color2, #e0e0e0);\n",
       "  --xr-disabled-color: var(--jp-layout-color3, #bdbdbd);\n",
       "  --xr-background-color: var(--jp-layout-color0, white);\n",
       "  --xr-background-color-row-even: var(--jp-layout-color1, white);\n",
       "  --xr-background-color-row-odd: var(--jp-layout-color2, #eeeeee);\n",
       "}\n",
       "\n",
       "html[theme=dark],\n",
       "body[data-theme=dark],\n",
       "body.vscode-dark {\n",
       "  --xr-font-color0: rgba(255, 255, 255, 1);\n",
       "  --xr-font-color2: rgba(255, 255, 255, 0.54);\n",
       "  --xr-font-color3: rgba(255, 255, 255, 0.38);\n",
       "  --xr-border-color: #1F1F1F;\n",
       "  --xr-disabled-color: #515151;\n",
       "  --xr-background-color: #111111;\n",
       "  --xr-background-color-row-even: #111111;\n",
       "  --xr-background-color-row-odd: #313131;\n",
       "}\n",
       "\n",
       ".xr-wrap {\n",
       "  display: block !important;\n",
       "  min-width: 300px;\n",
       "  max-width: 700px;\n",
       "}\n",
       "\n",
       ".xr-text-repr-fallback {\n",
       "  /* fallback to plain text repr when CSS is not injected (untrusted notebook) */\n",
       "  display: none;\n",
       "}\n",
       "\n",
       ".xr-header {\n",
       "  padding-top: 6px;\n",
       "  padding-bottom: 6px;\n",
       "  margin-bottom: 4px;\n",
       "  border-bottom: solid 1px var(--xr-border-color);\n",
       "}\n",
       "\n",
       ".xr-header > div,\n",
       ".xr-header > ul {\n",
       "  display: inline;\n",
       "  margin-top: 0;\n",
       "  margin-bottom: 0;\n",
       "}\n",
       "\n",
       ".xr-obj-type,\n",
       ".xr-array-name {\n",
       "  margin-left: 2px;\n",
       "  margin-right: 10px;\n",
       "}\n",
       "\n",
       ".xr-obj-type {\n",
       "  color: var(--xr-font-color2);\n",
       "}\n",
       "\n",
       ".xr-sections {\n",
       "  padding-left: 0 !important;\n",
       "  display: grid;\n",
       "  grid-template-columns: 150px auto auto 1fr 20px 20px;\n",
       "}\n",
       "\n",
       ".xr-section-item {\n",
       "  display: contents;\n",
       "}\n",
       "\n",
       ".xr-section-item input {\n",
       "  display: none;\n",
       "}\n",
       "\n",
       ".xr-section-item input + label {\n",
       "  color: var(--xr-disabled-color);\n",
       "}\n",
       "\n",
       ".xr-section-item input:enabled + label {\n",
       "  cursor: pointer;\n",
       "  color: var(--xr-font-color2);\n",
       "}\n",
       "\n",
       ".xr-section-item input:enabled + label:hover {\n",
       "  color: var(--xr-font-color0);\n",
       "}\n",
       "\n",
       ".xr-section-summary {\n",
       "  grid-column: 1;\n",
       "  color: var(--xr-font-color2);\n",
       "  font-weight: 500;\n",
       "}\n",
       "\n",
       ".xr-section-summary > span {\n",
       "  display: inline-block;\n",
       "  padding-left: 0.5em;\n",
       "}\n",
       "\n",
       ".xr-section-summary-in:disabled + label {\n",
       "  color: var(--xr-font-color2);\n",
       "}\n",
       "\n",
       ".xr-section-summary-in + label:before {\n",
       "  display: inline-block;\n",
       "  content: '►';\n",
       "  font-size: 11px;\n",
       "  width: 15px;\n",
       "  text-align: center;\n",
       "}\n",
       "\n",
       ".xr-section-summary-in:disabled + label:before {\n",
       "  color: var(--xr-disabled-color);\n",
       "}\n",
       "\n",
       ".xr-section-summary-in:checked + label:before {\n",
       "  content: '▼';\n",
       "}\n",
       "\n",
       ".xr-section-summary-in:checked + label > span {\n",
       "  display: none;\n",
       "}\n",
       "\n",
       ".xr-section-summary,\n",
       ".xr-section-inline-details {\n",
       "  padding-top: 4px;\n",
       "  padding-bottom: 4px;\n",
       "}\n",
       "\n",
       ".xr-section-inline-details {\n",
       "  grid-column: 2 / -1;\n",
       "}\n",
       "\n",
       ".xr-section-details {\n",
       "  display: none;\n",
       "  grid-column: 1 / -1;\n",
       "  margin-bottom: 5px;\n",
       "}\n",
       "\n",
       ".xr-section-summary-in:checked ~ .xr-section-details {\n",
       "  display: contents;\n",
       "}\n",
       "\n",
       ".xr-array-wrap {\n",
       "  grid-column: 1 / -1;\n",
       "  display: grid;\n",
       "  grid-template-columns: 20px auto;\n",
       "}\n",
       "\n",
       ".xr-array-wrap > label {\n",
       "  grid-column: 1;\n",
       "  vertical-align: top;\n",
       "}\n",
       "\n",
       ".xr-preview {\n",
       "  color: var(--xr-font-color3);\n",
       "}\n",
       "\n",
       ".xr-array-preview,\n",
       ".xr-array-data {\n",
       "  padding: 0 5px !important;\n",
       "  grid-column: 2;\n",
       "}\n",
       "\n",
       ".xr-array-data,\n",
       ".xr-array-in:checked ~ .xr-array-preview {\n",
       "  display: none;\n",
       "}\n",
       "\n",
       ".xr-array-in:checked ~ .xr-array-data,\n",
       ".xr-array-preview {\n",
       "  display: inline-block;\n",
       "}\n",
       "\n",
       ".xr-dim-list {\n",
       "  display: inline-block !important;\n",
       "  list-style: none;\n",
       "  padding: 0 !important;\n",
       "  margin: 0;\n",
       "}\n",
       "\n",
       ".xr-dim-list li {\n",
       "  display: inline-block;\n",
       "  padding: 0;\n",
       "  margin: 0;\n",
       "}\n",
       "\n",
       ".xr-dim-list:before {\n",
       "  content: '(';\n",
       "}\n",
       "\n",
       ".xr-dim-list:after {\n",
       "  content: ')';\n",
       "}\n",
       "\n",
       ".xr-dim-list li:not(:last-child):after {\n",
       "  content: ',';\n",
       "  padding-right: 5px;\n",
       "}\n",
       "\n",
       ".xr-has-index {\n",
       "  font-weight: bold;\n",
       "}\n",
       "\n",
       ".xr-var-list,\n",
       ".xr-var-item {\n",
       "  display: contents;\n",
       "}\n",
       "\n",
       ".xr-var-item > div,\n",
       ".xr-var-item label,\n",
       ".xr-var-item > .xr-var-name span {\n",
       "  background-color: var(--xr-background-color-row-even);\n",
       "  margin-bottom: 0;\n",
       "}\n",
       "\n",
       ".xr-var-item > .xr-var-name:hover span {\n",
       "  padding-right: 5px;\n",
       "}\n",
       "\n",
       ".xr-var-list > li:nth-child(odd) > div,\n",
       ".xr-var-list > li:nth-child(odd) > label,\n",
       ".xr-var-list > li:nth-child(odd) > .xr-var-name span {\n",
       "  background-color: var(--xr-background-color-row-odd);\n",
       "}\n",
       "\n",
       ".xr-var-name {\n",
       "  grid-column: 1;\n",
       "}\n",
       "\n",
       ".xr-var-dims {\n",
       "  grid-column: 2;\n",
       "}\n",
       "\n",
       ".xr-var-dtype {\n",
       "  grid-column: 3;\n",
       "  text-align: right;\n",
       "  color: var(--xr-font-color2);\n",
       "}\n",
       "\n",
       ".xr-var-preview {\n",
       "  grid-column: 4;\n",
       "}\n",
       "\n",
       ".xr-index-preview {\n",
       "  grid-column: 2 / 5;\n",
       "  color: var(--xr-font-color2);\n",
       "}\n",
       "\n",
       ".xr-var-name,\n",
       ".xr-var-dims,\n",
       ".xr-var-dtype,\n",
       ".xr-preview,\n",
       ".xr-attrs dt {\n",
       "  white-space: nowrap;\n",
       "  overflow: hidden;\n",
       "  text-overflow: ellipsis;\n",
       "  padding-right: 10px;\n",
       "}\n",
       "\n",
       ".xr-var-name:hover,\n",
       ".xr-var-dims:hover,\n",
       ".xr-var-dtype:hover,\n",
       ".xr-attrs dt:hover {\n",
       "  overflow: visible;\n",
       "  width: auto;\n",
       "  z-index: 1;\n",
       "}\n",
       "\n",
       ".xr-var-attrs,\n",
       ".xr-var-data,\n",
       ".xr-index-data {\n",
       "  display: none;\n",
       "  background-color: var(--xr-background-color) !important;\n",
       "  padding-bottom: 5px !important;\n",
       "}\n",
       "\n",
       ".xr-var-attrs-in:checked ~ .xr-var-attrs,\n",
       ".xr-var-data-in:checked ~ .xr-var-data,\n",
       ".xr-index-data-in:checked ~ .xr-index-data {\n",
       "  display: block;\n",
       "}\n",
       "\n",
       ".xr-var-data > table {\n",
       "  float: right;\n",
       "}\n",
       "\n",
       ".xr-var-name span,\n",
       ".xr-var-data,\n",
       ".xr-index-name div,\n",
       ".xr-index-data,\n",
       ".xr-attrs {\n",
       "  padding-left: 25px !important;\n",
       "}\n",
       "\n",
       ".xr-attrs,\n",
       ".xr-var-attrs,\n",
       ".xr-var-data,\n",
       ".xr-index-data {\n",
       "  grid-column: 1 / -1;\n",
       "}\n",
       "\n",
       "dl.xr-attrs {\n",
       "  padding: 0;\n",
       "  margin: 0;\n",
       "  display: grid;\n",
       "  grid-template-columns: 125px auto;\n",
       "}\n",
       "\n",
       ".xr-attrs dt,\n",
       ".xr-attrs dd {\n",
       "  padding: 0;\n",
       "  margin: 0;\n",
       "  float: left;\n",
       "  padding-right: 10px;\n",
       "  width: auto;\n",
       "}\n",
       "\n",
       ".xr-attrs dt {\n",
       "  font-weight: normal;\n",
       "  grid-column: 1;\n",
       "}\n",
       "\n",
       ".xr-attrs dt:hover span {\n",
       "  display: inline-block;\n",
       "  background: var(--xr-background-color);\n",
       "  padding-right: 10px;\n",
       "}\n",
       "\n",
       ".xr-attrs dd {\n",
       "  grid-column: 2;\n",
       "  white-space: pre-wrap;\n",
       "  word-break: break-all;\n",
       "}\n",
       "\n",
       ".xr-icon-database,\n",
       ".xr-icon-file-text2,\n",
       ".xr-no-icon {\n",
       "  display: inline-block;\n",
       "  vertical-align: middle;\n",
       "  width: 1em;\n",
       "  height: 1.5em !important;\n",
       "  stroke-width: 0;\n",
       "  stroke: currentColor;\n",
       "  fill: currentColor;\n",
       "}\n",
       "</style><pre class='xr-text-repr-fallback'>&lt;xarray.DataArray &#x27;area&#x27; (ny: 600, nx: 720)&gt;\n",
       "[432000 values with dtype=float64]\n",
       "Dimensions without coordinates: ny, nx\n",
       "Attributes:\n",
       "    standard_name:  grid_cell_area\n",
       "    units:          m2</pre><div class='xr-wrap' style='display:none'><div class='xr-header'><div class='xr-obj-type'>xarray.DataArray</div><div class='xr-array-name'>'area'</div><ul class='xr-dim-list'><li><span>ny</span>: 600</li><li><span>nx</span>: 720</li></ul></div><ul class='xr-sections'><li class='xr-section-item'><div class='xr-array-wrap'><input id='section-9dae888f-74f5-4749-8c4a-7cf2bc106619' class='xr-array-in' type='checkbox' checked><label for='section-9dae888f-74f5-4749-8c4a-7cf2bc106619' title='Show/hide data repr'><svg class='icon xr-icon-database'><use xlink:href='#icon-database'></use></svg></label><div class='xr-array-preview xr-preview'><span>...</span></div><div class='xr-array-data'><pre>[432000 values with dtype=float64]</pre></div></div></li><li class='xr-section-item'><input id='section-77023cbf-6f03-4a09-a1c5-8750dd57077f' class='xr-section-summary-in' type='checkbox' disabled ><label for='section-77023cbf-6f03-4a09-a1c5-8750dd57077f' class='xr-section-summary'  title='Expand/collapse section'>Coordinates: <span>(0)</span></label><div class='xr-section-inline-details'></div><div class='xr-section-details'><ul class='xr-var-list'></ul></div></li><li class='xr-section-item'><input id='section-5966d786-3c69-4c32-9e4c-8f650a7b8a99' class='xr-section-summary-in' type='checkbox' disabled ><label for='section-5966d786-3c69-4c32-9e4c-8f650a7b8a99' class='xr-section-summary'  title='Expand/collapse section'>Indexes: <span>(0)</span></label><div class='xr-section-inline-details'></div><div class='xr-section-details'><ul class='xr-var-list'></ul></div></li><li class='xr-section-item'><input id='section-d761da97-dd6d-4b97-9097-ae10c8075147' class='xr-section-summary-in' type='checkbox'  checked><label for='section-d761da97-dd6d-4b97-9097-ae10c8075147' class='xr-section-summary' >Attributes: <span>(2)</span></label><div class='xr-section-inline-details'></div><div class='xr-section-details'><dl class='xr-attrs'><dt><span>standard_name :</span></dt><dd>grid_cell_area</dd><dt><span>units :</span></dt><dd>m2</dd></dl></div></li></ul></div></div>"
      ],
      "text/plain": [
       "<xarray.DataArray 'area' (ny: 600, nx: 720)>\n",
       "[432000 values with dtype=float64]\n",
       "Dimensions without coordinates: ny, nx\n",
       "Attributes:\n",
       "    standard_name:  grid_cell_area\n",
       "    units:          m2"
      ]
     },
     "execution_count": 30,
     "metadata": {},
     "output_type": "execute_result"
    }
   ],
   "source": [
    "mom_ds.area"
   ]
  },
  {
   "cell_type": "code",
   "execution_count": 34,
   "id": "b0f19037-bd83-445c-8cf6-05dbd2ef85b4",
   "metadata": {
    "execution": {
     "iopub.execute_input": "2024-03-08T00:38:24.245423Z",
     "iopub.status.busy": "2024-03-08T00:38:24.244294Z",
     "iopub.status.idle": "2024-03-08T00:38:24.260547Z",
     "shell.execute_reply": "2024-03-08T00:38:24.259594Z",
     "shell.execute_reply.started": "2024-03-08T00:38:24.245373Z"
    }
   },
   "outputs": [],
   "source": [
    "mom_tarea = mom_ds.area.coarsen(ny=2, nx=2).sum()"
   ]
  },
  {
   "cell_type": "code",
   "execution_count": 35,
   "id": "2b6b3fc5-e6f5-4ec7-b295-a0b94f372390",
   "metadata": {
    "execution": {
     "iopub.execute_input": "2024-03-08T00:38:24.554431Z",
     "iopub.status.busy": "2024-03-08T00:38:24.553610Z",
     "iopub.status.idle": "2024-03-08T00:38:24.567273Z",
     "shell.execute_reply": "2024-03-08T00:38:24.566264Z",
     "shell.execute_reply.started": "2024-03-08T00:38:24.554382Z"
    }
   },
   "outputs": [
    {
     "data": {
      "text/html": [
       "<div><svg style=\"position: absolute; width: 0; height: 0; overflow: hidden\">\n",
       "<defs>\n",
       "<symbol id=\"icon-database\" viewBox=\"0 0 32 32\">\n",
       "<path d=\"M16 0c-8.837 0-16 2.239-16 5v4c0 2.761 7.163 5 16 5s16-2.239 16-5v-4c0-2.761-7.163-5-16-5z\"></path>\n",
       "<path d=\"M16 17c-8.837 0-16-2.239-16-5v6c0 2.761 7.163 5 16 5s16-2.239 16-5v-6c0 2.761-7.163 5-16 5z\"></path>\n",
       "<path d=\"M16 26c-8.837 0-16-2.239-16-5v6c0 2.761 7.163 5 16 5s16-2.239 16-5v-6c0 2.761-7.163 5-16 5z\"></path>\n",
       "</symbol>\n",
       "<symbol id=\"icon-file-text2\" viewBox=\"0 0 32 32\">\n",
       "<path d=\"M28.681 7.159c-0.694-0.947-1.662-2.053-2.724-3.116s-2.169-2.030-3.116-2.724c-1.612-1.182-2.393-1.319-2.841-1.319h-15.5c-1.378 0-2.5 1.121-2.5 2.5v27c0 1.378 1.122 2.5 2.5 2.5h23c1.378 0 2.5-1.122 2.5-2.5v-19.5c0-0.448-0.137-1.23-1.319-2.841zM24.543 5.457c0.959 0.959 1.712 1.825 2.268 2.543h-4.811v-4.811c0.718 0.556 1.584 1.309 2.543 2.268zM28 29.5c0 0.271-0.229 0.5-0.5 0.5h-23c-0.271 0-0.5-0.229-0.5-0.5v-27c0-0.271 0.229-0.5 0.5-0.5 0 0 15.499-0 15.5 0v7c0 0.552 0.448 1 1 1h7v19.5z\"></path>\n",
       "<path d=\"M23 26h-14c-0.552 0-1-0.448-1-1s0.448-1 1-1h14c0.552 0 1 0.448 1 1s-0.448 1-1 1z\"></path>\n",
       "<path d=\"M23 22h-14c-0.552 0-1-0.448-1-1s0.448-1 1-1h14c0.552 0 1 0.448 1 1s-0.448 1-1 1z\"></path>\n",
       "<path d=\"M23 18h-14c-0.552 0-1-0.448-1-1s0.448-1 1-1h14c0.552 0 1 0.448 1 1s-0.448 1-1 1z\"></path>\n",
       "</symbol>\n",
       "</defs>\n",
       "</svg>\n",
       "<style>/* CSS stylesheet for displaying xarray objects in jupyterlab.\n",
       " *\n",
       " */\n",
       "\n",
       ":root {\n",
       "  --xr-font-color0: var(--jp-content-font-color0, rgba(0, 0, 0, 1));\n",
       "  --xr-font-color2: var(--jp-content-font-color2, rgba(0, 0, 0, 0.54));\n",
       "  --xr-font-color3: var(--jp-content-font-color3, rgba(0, 0, 0, 0.38));\n",
       "  --xr-border-color: var(--jp-border-color2, #e0e0e0);\n",
       "  --xr-disabled-color: var(--jp-layout-color3, #bdbdbd);\n",
       "  --xr-background-color: var(--jp-layout-color0, white);\n",
       "  --xr-background-color-row-even: var(--jp-layout-color1, white);\n",
       "  --xr-background-color-row-odd: var(--jp-layout-color2, #eeeeee);\n",
       "}\n",
       "\n",
       "html[theme=dark],\n",
       "body[data-theme=dark],\n",
       "body.vscode-dark {\n",
       "  --xr-font-color0: rgba(255, 255, 255, 1);\n",
       "  --xr-font-color2: rgba(255, 255, 255, 0.54);\n",
       "  --xr-font-color3: rgba(255, 255, 255, 0.38);\n",
       "  --xr-border-color: #1F1F1F;\n",
       "  --xr-disabled-color: #515151;\n",
       "  --xr-background-color: #111111;\n",
       "  --xr-background-color-row-even: #111111;\n",
       "  --xr-background-color-row-odd: #313131;\n",
       "}\n",
       "\n",
       ".xr-wrap {\n",
       "  display: block !important;\n",
       "  min-width: 300px;\n",
       "  max-width: 700px;\n",
       "}\n",
       "\n",
       ".xr-text-repr-fallback {\n",
       "  /* fallback to plain text repr when CSS is not injected (untrusted notebook) */\n",
       "  display: none;\n",
       "}\n",
       "\n",
       ".xr-header {\n",
       "  padding-top: 6px;\n",
       "  padding-bottom: 6px;\n",
       "  margin-bottom: 4px;\n",
       "  border-bottom: solid 1px var(--xr-border-color);\n",
       "}\n",
       "\n",
       ".xr-header > div,\n",
       ".xr-header > ul {\n",
       "  display: inline;\n",
       "  margin-top: 0;\n",
       "  margin-bottom: 0;\n",
       "}\n",
       "\n",
       ".xr-obj-type,\n",
       ".xr-array-name {\n",
       "  margin-left: 2px;\n",
       "  margin-right: 10px;\n",
       "}\n",
       "\n",
       ".xr-obj-type {\n",
       "  color: var(--xr-font-color2);\n",
       "}\n",
       "\n",
       ".xr-sections {\n",
       "  padding-left: 0 !important;\n",
       "  display: grid;\n",
       "  grid-template-columns: 150px auto auto 1fr 20px 20px;\n",
       "}\n",
       "\n",
       ".xr-section-item {\n",
       "  display: contents;\n",
       "}\n",
       "\n",
       ".xr-section-item input {\n",
       "  display: none;\n",
       "}\n",
       "\n",
       ".xr-section-item input + label {\n",
       "  color: var(--xr-disabled-color);\n",
       "}\n",
       "\n",
       ".xr-section-item input:enabled + label {\n",
       "  cursor: pointer;\n",
       "  color: var(--xr-font-color2);\n",
       "}\n",
       "\n",
       ".xr-section-item input:enabled + label:hover {\n",
       "  color: var(--xr-font-color0);\n",
       "}\n",
       "\n",
       ".xr-section-summary {\n",
       "  grid-column: 1;\n",
       "  color: var(--xr-font-color2);\n",
       "  font-weight: 500;\n",
       "}\n",
       "\n",
       ".xr-section-summary > span {\n",
       "  display: inline-block;\n",
       "  padding-left: 0.5em;\n",
       "}\n",
       "\n",
       ".xr-section-summary-in:disabled + label {\n",
       "  color: var(--xr-font-color2);\n",
       "}\n",
       "\n",
       ".xr-section-summary-in + label:before {\n",
       "  display: inline-block;\n",
       "  content: '►';\n",
       "  font-size: 11px;\n",
       "  width: 15px;\n",
       "  text-align: center;\n",
       "}\n",
       "\n",
       ".xr-section-summary-in:disabled + label:before {\n",
       "  color: var(--xr-disabled-color);\n",
       "}\n",
       "\n",
       ".xr-section-summary-in:checked + label:before {\n",
       "  content: '▼';\n",
       "}\n",
       "\n",
       ".xr-section-summary-in:checked + label > span {\n",
       "  display: none;\n",
       "}\n",
       "\n",
       ".xr-section-summary,\n",
       ".xr-section-inline-details {\n",
       "  padding-top: 4px;\n",
       "  padding-bottom: 4px;\n",
       "}\n",
       "\n",
       ".xr-section-inline-details {\n",
       "  grid-column: 2 / -1;\n",
       "}\n",
       "\n",
       ".xr-section-details {\n",
       "  display: none;\n",
       "  grid-column: 1 / -1;\n",
       "  margin-bottom: 5px;\n",
       "}\n",
       "\n",
       ".xr-section-summary-in:checked ~ .xr-section-details {\n",
       "  display: contents;\n",
       "}\n",
       "\n",
       ".xr-array-wrap {\n",
       "  grid-column: 1 / -1;\n",
       "  display: grid;\n",
       "  grid-template-columns: 20px auto;\n",
       "}\n",
       "\n",
       ".xr-array-wrap > label {\n",
       "  grid-column: 1;\n",
       "  vertical-align: top;\n",
       "}\n",
       "\n",
       ".xr-preview {\n",
       "  color: var(--xr-font-color3);\n",
       "}\n",
       "\n",
       ".xr-array-preview,\n",
       ".xr-array-data {\n",
       "  padding: 0 5px !important;\n",
       "  grid-column: 2;\n",
       "}\n",
       "\n",
       ".xr-array-data,\n",
       ".xr-array-in:checked ~ .xr-array-preview {\n",
       "  display: none;\n",
       "}\n",
       "\n",
       ".xr-array-in:checked ~ .xr-array-data,\n",
       ".xr-array-preview {\n",
       "  display: inline-block;\n",
       "}\n",
       "\n",
       ".xr-dim-list {\n",
       "  display: inline-block !important;\n",
       "  list-style: none;\n",
       "  padding: 0 !important;\n",
       "  margin: 0;\n",
       "}\n",
       "\n",
       ".xr-dim-list li {\n",
       "  display: inline-block;\n",
       "  padding: 0;\n",
       "  margin: 0;\n",
       "}\n",
       "\n",
       ".xr-dim-list:before {\n",
       "  content: '(';\n",
       "}\n",
       "\n",
       ".xr-dim-list:after {\n",
       "  content: ')';\n",
       "}\n",
       "\n",
       ".xr-dim-list li:not(:last-child):after {\n",
       "  content: ',';\n",
       "  padding-right: 5px;\n",
       "}\n",
       "\n",
       ".xr-has-index {\n",
       "  font-weight: bold;\n",
       "}\n",
       "\n",
       ".xr-var-list,\n",
       ".xr-var-item {\n",
       "  display: contents;\n",
       "}\n",
       "\n",
       ".xr-var-item > div,\n",
       ".xr-var-item label,\n",
       ".xr-var-item > .xr-var-name span {\n",
       "  background-color: var(--xr-background-color-row-even);\n",
       "  margin-bottom: 0;\n",
       "}\n",
       "\n",
       ".xr-var-item > .xr-var-name:hover span {\n",
       "  padding-right: 5px;\n",
       "}\n",
       "\n",
       ".xr-var-list > li:nth-child(odd) > div,\n",
       ".xr-var-list > li:nth-child(odd) > label,\n",
       ".xr-var-list > li:nth-child(odd) > .xr-var-name span {\n",
       "  background-color: var(--xr-background-color-row-odd);\n",
       "}\n",
       "\n",
       ".xr-var-name {\n",
       "  grid-column: 1;\n",
       "}\n",
       "\n",
       ".xr-var-dims {\n",
       "  grid-column: 2;\n",
       "}\n",
       "\n",
       ".xr-var-dtype {\n",
       "  grid-column: 3;\n",
       "  text-align: right;\n",
       "  color: var(--xr-font-color2);\n",
       "}\n",
       "\n",
       ".xr-var-preview {\n",
       "  grid-column: 4;\n",
       "}\n",
       "\n",
       ".xr-index-preview {\n",
       "  grid-column: 2 / 5;\n",
       "  color: var(--xr-font-color2);\n",
       "}\n",
       "\n",
       ".xr-var-name,\n",
       ".xr-var-dims,\n",
       ".xr-var-dtype,\n",
       ".xr-preview,\n",
       ".xr-attrs dt {\n",
       "  white-space: nowrap;\n",
       "  overflow: hidden;\n",
       "  text-overflow: ellipsis;\n",
       "  padding-right: 10px;\n",
       "}\n",
       "\n",
       ".xr-var-name:hover,\n",
       ".xr-var-dims:hover,\n",
       ".xr-var-dtype:hover,\n",
       ".xr-attrs dt:hover {\n",
       "  overflow: visible;\n",
       "  width: auto;\n",
       "  z-index: 1;\n",
       "}\n",
       "\n",
       ".xr-var-attrs,\n",
       ".xr-var-data,\n",
       ".xr-index-data {\n",
       "  display: none;\n",
       "  background-color: var(--xr-background-color) !important;\n",
       "  padding-bottom: 5px !important;\n",
       "}\n",
       "\n",
       ".xr-var-attrs-in:checked ~ .xr-var-attrs,\n",
       ".xr-var-data-in:checked ~ .xr-var-data,\n",
       ".xr-index-data-in:checked ~ .xr-index-data {\n",
       "  display: block;\n",
       "}\n",
       "\n",
       ".xr-var-data > table {\n",
       "  float: right;\n",
       "}\n",
       "\n",
       ".xr-var-name span,\n",
       ".xr-var-data,\n",
       ".xr-index-name div,\n",
       ".xr-index-data,\n",
       ".xr-attrs {\n",
       "  padding-left: 25px !important;\n",
       "}\n",
       "\n",
       ".xr-attrs,\n",
       ".xr-var-attrs,\n",
       ".xr-var-data,\n",
       ".xr-index-data {\n",
       "  grid-column: 1 / -1;\n",
       "}\n",
       "\n",
       "dl.xr-attrs {\n",
       "  padding: 0;\n",
       "  margin: 0;\n",
       "  display: grid;\n",
       "  grid-template-columns: 125px auto;\n",
       "}\n",
       "\n",
       ".xr-attrs dt,\n",
       ".xr-attrs dd {\n",
       "  padding: 0;\n",
       "  margin: 0;\n",
       "  float: left;\n",
       "  padding-right: 10px;\n",
       "  width: auto;\n",
       "}\n",
       "\n",
       ".xr-attrs dt {\n",
       "  font-weight: normal;\n",
       "  grid-column: 1;\n",
       "}\n",
       "\n",
       ".xr-attrs dt:hover span {\n",
       "  display: inline-block;\n",
       "  background: var(--xr-background-color);\n",
       "  padding-right: 10px;\n",
       "}\n",
       "\n",
       ".xr-attrs dd {\n",
       "  grid-column: 2;\n",
       "  white-space: pre-wrap;\n",
       "  word-break: break-all;\n",
       "}\n",
       "\n",
       ".xr-icon-database,\n",
       ".xr-icon-file-text2,\n",
       ".xr-no-icon {\n",
       "  display: inline-block;\n",
       "  vertical-align: middle;\n",
       "  width: 1em;\n",
       "  height: 1.5em !important;\n",
       "  stroke-width: 0;\n",
       "  stroke: currentColor;\n",
       "  fill: currentColor;\n",
       "}\n",
       "</style><pre class='xr-text-repr-fallback'>&lt;xarray.DataArray &#x27;area&#x27; (ny: 300, nx: 360)&gt;\n",
       "array([[6.40954519e+08, 6.40954519e+08, 6.40954519e+08, ...,\n",
       "        6.40954519e+08, 6.40954519e+08, 6.40954519e+08],\n",
       "       [6.55479360e+08, 6.55479360e+08, 6.55479360e+08, ...,\n",
       "        6.55479360e+08, 6.55479360e+08, 6.55479360e+08],\n",
       "       [6.71796417e+08, 6.71796417e+08, 6.71796417e+08, ...,\n",
       "        6.71796417e+08, 6.71796417e+08, 6.71796417e+08],\n",
       "       ...,\n",
       "       [3.83272870e+07, 1.11802998e+08, 1.80809918e+08, ...,\n",
       "        1.80809918e+08, 1.11802998e+08, 3.83272870e+07],\n",
       "       [3.83694840e+07, 1.11917601e+08, 1.80981790e+08, ...,\n",
       "        1.80981790e+08, 1.11917601e+08, 3.83694840e+07],\n",
       "       [3.83906179e+07, 1.11974990e+08, 1.81067845e+08, ...,\n",
       "        1.81067845e+08, 1.11974990e+08, 3.83906179e+07]])\n",
       "Dimensions without coordinates: ny, nx\n",
       "Attributes:\n",
       "    standard_name:  grid_cell_area\n",
       "    units:          m2</pre><div class='xr-wrap' style='display:none'><div class='xr-header'><div class='xr-obj-type'>xarray.DataArray</div><div class='xr-array-name'>'area'</div><ul class='xr-dim-list'><li><span>ny</span>: 300</li><li><span>nx</span>: 360</li></ul></div><ul class='xr-sections'><li class='xr-section-item'><div class='xr-array-wrap'><input id='section-97ee7e8e-6b9c-40e5-9796-0a1c994637b6' class='xr-array-in' type='checkbox' checked><label for='section-97ee7e8e-6b9c-40e5-9796-0a1c994637b6' title='Show/hide data repr'><svg class='icon xr-icon-database'><use xlink:href='#icon-database'></use></svg></label><div class='xr-array-preview xr-preview'><span>6.41e+08 6.41e+08 6.41e+08 6.41e+08 ... 1.811e+08 1.12e+08 3.839e+07</span></div><div class='xr-array-data'><pre>array([[6.40954519e+08, 6.40954519e+08, 6.40954519e+08, ...,\n",
       "        6.40954519e+08, 6.40954519e+08, 6.40954519e+08],\n",
       "       [6.55479360e+08, 6.55479360e+08, 6.55479360e+08, ...,\n",
       "        6.55479360e+08, 6.55479360e+08, 6.55479360e+08],\n",
       "       [6.71796417e+08, 6.71796417e+08, 6.71796417e+08, ...,\n",
       "        6.71796417e+08, 6.71796417e+08, 6.71796417e+08],\n",
       "       ...,\n",
       "       [3.83272870e+07, 1.11802998e+08, 1.80809918e+08, ...,\n",
       "        1.80809918e+08, 1.11802998e+08, 3.83272870e+07],\n",
       "       [3.83694840e+07, 1.11917601e+08, 1.80981790e+08, ...,\n",
       "        1.80981790e+08, 1.11917601e+08, 3.83694840e+07],\n",
       "       [3.83906179e+07, 1.11974990e+08, 1.81067845e+08, ...,\n",
       "        1.81067845e+08, 1.11974990e+08, 3.83906179e+07]])</pre></div></div></li><li class='xr-section-item'><input id='section-e3c47e39-f498-4fb5-a441-edfafe4beb5b' class='xr-section-summary-in' type='checkbox' disabled ><label for='section-e3c47e39-f498-4fb5-a441-edfafe4beb5b' class='xr-section-summary'  title='Expand/collapse section'>Coordinates: <span>(0)</span></label><div class='xr-section-inline-details'></div><div class='xr-section-details'><ul class='xr-var-list'></ul></div></li><li class='xr-section-item'><input id='section-2a0ca109-cff7-4aa0-a3df-8eea4a5db14f' class='xr-section-summary-in' type='checkbox' disabled ><label for='section-2a0ca109-cff7-4aa0-a3df-8eea4a5db14f' class='xr-section-summary'  title='Expand/collapse section'>Indexes: <span>(0)</span></label><div class='xr-section-inline-details'></div><div class='xr-section-details'><ul class='xr-var-list'></ul></div></li><li class='xr-section-item'><input id='section-a6a19cd8-b8ae-46cf-b0e3-709a2b475e10' class='xr-section-summary-in' type='checkbox'  checked><label for='section-a6a19cd8-b8ae-46cf-b0e3-709a2b475e10' class='xr-section-summary' >Attributes: <span>(2)</span></label><div class='xr-section-inline-details'></div><div class='xr-section-details'><dl class='xr-attrs'><dt><span>standard_name :</span></dt><dd>grid_cell_area</dd><dt><span>units :</span></dt><dd>m2</dd></dl></div></li></ul></div></div>"
      ],
      "text/plain": [
       "<xarray.DataArray 'area' (ny: 300, nx: 360)>\n",
       "array([[6.40954519e+08, 6.40954519e+08, 6.40954519e+08, ...,\n",
       "        6.40954519e+08, 6.40954519e+08, 6.40954519e+08],\n",
       "       [6.55479360e+08, 6.55479360e+08, 6.55479360e+08, ...,\n",
       "        6.55479360e+08, 6.55479360e+08, 6.55479360e+08],\n",
       "       [6.71796417e+08, 6.71796417e+08, 6.71796417e+08, ...,\n",
       "        6.71796417e+08, 6.71796417e+08, 6.71796417e+08],\n",
       "       ...,\n",
       "       [3.83272870e+07, 1.11802998e+08, 1.80809918e+08, ...,\n",
       "        1.80809918e+08, 1.11802998e+08, 3.83272870e+07],\n",
       "       [3.83694840e+07, 1.11917601e+08, 1.80981790e+08, ...,\n",
       "        1.80981790e+08, 1.11917601e+08, 3.83694840e+07],\n",
       "       [3.83906179e+07, 1.11974990e+08, 1.81067845e+08, ...,\n",
       "        1.81067845e+08, 1.11974990e+08, 3.83906179e+07]])\n",
       "Dimensions without coordinates: ny, nx\n",
       "Attributes:\n",
       "    standard_name:  grid_cell_area\n",
       "    units:          m2"
      ]
     },
     "execution_count": 35,
     "metadata": {},
     "output_type": "execute_result"
    }
   ],
   "source": [
    "mom_tarea"
   ]
  },
  {
   "cell_type": "code",
   "execution_count": 36,
   "id": "38c1ee88-4044-452d-98ea-a5a2712c81fb",
   "metadata": {
    "execution": {
     "iopub.execute_input": "2024-03-08T00:38:26.768890Z",
     "iopub.status.busy": "2024-03-08T00:38:26.767974Z",
     "iopub.status.idle": "2024-03-08T00:38:27.569717Z",
     "shell.execute_reply": "2024-03-08T00:38:27.569041Z",
     "shell.execute_reply.started": "2024-03-08T00:38:26.768838Z"
    }
   },
   "outputs": [
    {
     "data": {
      "text/plain": [
       "<matplotlib.colorbar.Colorbar at 0x148ddc86b9d0>"
      ]
     },
     "execution_count": 36,
     "metadata": {},
     "output_type": "execute_result"
    },
    {
     "data": {
      "image/png": "[encoded data removed]",
      "text/plain": [
       "<Figure size 640x480 with 2 Axes>"
      ]
     },
     "metadata": {},
     "output_type": "display_data"
    }
   ],
   "source": [
    "plt.pcolor(mom_tarea.values-ds.tarea.values, vmin=-1e6, vmax=1e6)\n",
    "plt.colorbar()"
   ]
  },
  {
   "cell_type": "code",
   "execution_count": 56,
   "id": "7d4c0eae-0002-4c11-86b4-307651b8693f",
   "metadata": {
    "execution": {
     "iopub.execute_input": "2024-03-08T01:56:24.850004Z",
     "iopub.status.busy": "2024-03-08T01:56:24.848967Z",
     "iopub.status.idle": "2024-03-08T01:56:25.790909Z",
     "shell.execute_reply": "2024-03-08T01:56:25.790209Z",
     "shell.execute_reply.started": "2024-03-08T01:56:24.849953Z"
    }
   },
   "outputs": [
    {
     "data": {
      "text/plain": [
       "<matplotlib.colorbar.Colorbar at 0x148dc1d5b910>"
      ]
     },
     "execution_count": 56,
     "metadata": {},
     "output_type": "execute_result"
    },
    {
     "data": {
      "image/png": "[encoded data removed]",
      "text/plain": [
       "<Figure size 640x480 with 2 Axes>"
      ]
     },
     "metadata": {},
     "output_type": "display_data"
    }
   ],
   "source": [
    "plt.pcolor(mom_tarea.values-grid.tarea.values, vmin=-1e6, vmax=1e6)\n",
    "plt.colorbar()"
   ]
  },
  {
   "cell_type": "code",
   "execution_count": null,
   "id": "9f796ef2-a751-4475-b1df-421f213e63db",
   "metadata": {},
   "outputs": [],
   "source": []
  },
  {
   "cell_type": "code",
   "execution_count": null,
   "id": "04c936d6-c3c0-4943-94e1-7f50c8ad2318",
   "metadata": {},
   "outputs": [],
   "source": []
  },
  {
   "cell_type": "code",
   "execution_count": null,
   "id": "8e56552a-fe0f-42d6-bccb-60b2307f1c2d",
   "metadata": {},
   "outputs": [],
   "source": []
  },
  {
   "cell_type": "code",
   "execution_count": 70,
   "id": "8e658993-3e38-4ef9-997b-8a9dc7818b21",
   "metadata": {
    "execution": {
     "iopub.execute_input": "2024-03-08T02:07:15.270117Z",
     "iopub.status.busy": "2024-03-08T02:07:15.269342Z",
     "iopub.status.idle": "2024-03-08T02:07:15.275310Z",
     "shell.execute_reply": "2024-03-08T02:07:15.274276Z",
     "shell.execute_reply.started": "2024-03-08T02:07:15.270069Z"
    }
   },
   "outputs": [],
   "source": [
    "from numpy import rad2deg "
   ]
  },
  {
   "cell_type": "code",
   "execution_count": 74,
   "id": "ffba331a-f9bb-4b66-b35f-0f3e9b212742",
   "metadata": {
    "execution": {
     "iopub.execute_input": "2024-03-08T02:08:07.128259Z",
     "iopub.status.busy": "2024-03-08T02:08:07.127455Z",
     "iopub.status.idle": "2024-03-08T02:08:07.884208Z",
     "shell.execute_reply": "2024-03-08T02:08:07.883538Z",
     "shell.execute_reply.started": "2024-03-08T02:08:07.128211Z"
    }
   },
   "outputs": [
    {
     "data": {
      "text/plain": [
       "<matplotlib.colorbar.Colorbar at 0x148db8c6ffd0>"
      ]
     },
     "execution_count": 74,
     "metadata": {},
     "output_type": "execute_result"
    },
    {
     "data": {
      "image/png": "[encoded data removed]",
      "text/plain": [
       "<Figure size 640x480 with 2 Axes>"
      ]
     },
     "metadata": {},
     "output_type": "display_data"
    }
   ],
   "source": [
    "plt.pcolor(rad2deg(grid.tlat).values-ds.TLAT.values)\n",
    "plt.colorbar()"
   ]
  },
  {
   "cell_type": "code",
   "execution_count": 76,
   "id": "63f518aa-377a-4253-80b5-cbbde2544fa7",
   "metadata": {
    "execution": {
     "iopub.execute_input": "2024-03-08T02:08:34.342796Z",
     "iopub.status.busy": "2024-03-08T02:08:34.341801Z",
     "iopub.status.idle": "2024-03-08T02:08:35.102126Z",
     "shell.execute_reply": "2024-03-08T02:08:35.101466Z",
     "shell.execute_reply.started": "2024-03-08T02:08:34.342747Z"
    }
   },
   "outputs": [
    {
     "data": {
      "text/plain": [
       "<matplotlib.colorbar.Colorbar at 0x148db2fb6da0>"
      ]
     },
     "execution_count": 76,
     "metadata": {},
     "output_type": "execute_result"
    },
    {
     "data": {
      "image/png": "[encoded data removed]",
      "text/plain": [
       "<Figure size 640x480 with 2 Axes>"
      ]
     },
     "metadata": {},
     "output_type": "display_data"
    }
   ],
   "source": [
    "plt.pcolor(rad2deg(grid.tlon).values-ds.TLON.values)\n",
    "plt.colorbar()"
   ]
  },
  {
   "cell_type": "code",
   "execution_count": 77,
   "id": "c2972f2a-4047-4e7d-b515-694a3e048917",
   "metadata": {
    "execution": {
     "iopub.execute_input": "2024-03-08T02:09:00.971939Z",
     "iopub.status.busy": "2024-03-08T02:09:00.970907Z",
     "iopub.status.idle": "2024-03-08T02:09:01.762407Z",
     "shell.execute_reply": "2024-03-08T02:09:01.761733Z",
     "shell.execute_reply.started": "2024-03-08T02:09:00.971889Z"
    }
   },
   "outputs": [
    {
     "data": {
      "text/plain": [
       "<matplotlib.colorbar.Colorbar at 0x148db017f9d0>"
      ]
     },
     "execution_count": 77,
     "metadata": {},
     "output_type": "execute_result"
    },
    {
     "data": {
      "image/png": "[encoded data removed]",
      "text/plain": [
       "<Figure size 640x480 with 2 Axes>"
      ]
     },
     "metadata": {},
     "output_type": "display_data"
    }
   ],
   "source": [
    "plt.pcolor(rad2deg(grid.ulat).values-ds.ULAT.values)\n",
    "plt.colorbar()"
   ]
  },
  {
   "cell_type": "code",
   "execution_count": 78,
   "id": "ffa34573-cdda-4f55-b6c4-6d62f4aaaeb2",
   "metadata": {
    "execution": {
     "iopub.execute_input": "2024-03-08T02:09:10.097806Z",
     "iopub.status.busy": "2024-03-08T02:09:10.096963Z",
     "iopub.status.idle": "2024-03-08T02:09:10.862288Z",
     "shell.execute_reply": "2024-03-08T02:09:10.861610Z",
     "shell.execute_reply.started": "2024-03-08T02:09:10.097755Z"
    }
   },
   "outputs": [
    {
     "data": {
      "text/plain": [
       "<matplotlib.colorbar.Colorbar at 0x148dad517c10>"
      ]
     },
     "execution_count": 78,
     "metadata": {},
     "output_type": "execute_result"
    },
    {
     "data": {
      "image/png": "[encoded data removed]",
      "text/plain": [
       "<Figure size 640x480 with 2 Axes>"
      ]
     },
     "metadata": {},
     "output_type": "display_data"
    }
   ],
   "source": [
    "plt.pcolor(rad2deg(grid.ulon).values-ds.ULON.values)\n",
    "plt.colorbar()"
   ]
  },
  {
   "cell_type": "code",
   "execution_count": 84,
   "id": "bbf1517f-67ad-46e8-9220-b5298baaf9e5",
   "metadata": {
    "execution": {
     "iopub.execute_input": "2024-03-08T02:11:00.831907Z",
     "iopub.status.busy": "2024-03-08T02:11:00.830645Z",
     "iopub.status.idle": "2024-03-08T02:11:01.585271Z",
     "shell.execute_reply": "2024-03-08T02:11:01.584612Z",
     "shell.execute_reply.started": "2024-03-08T02:11:00.831856Z"
    }
   },
   "outputs": [
    {
     "data": {
      "text/plain": [
       "<matplotlib.colorbar.Colorbar at 0x148da7677820>"
      ]
     },
     "execution_count": 84,
     "metadata": {},
     "output_type": "execute_result"
    },
    {
     "data": {
      "image/png": "[encoded data removed]",
      "text/plain": [
       "<Figure size 640x480 with 2 Axes>"
      ]
     },
     "metadata": {},
     "output_type": "display_data"
    }
   ],
   "source": [
    "plt.pcolor(grid.angleT.values-ds.ANGLET.values)\n",
    "plt.colorbar()"
   ]
  },
  {
   "cell_type": "code",
   "execution_count": null,
   "id": "e39755c0-1e9c-4d45-b950-e22e4d58de26",
   "metadata": {},
   "outputs": [],
   "source": []
  }
 ],
 "metadata": {
  "kernelspec": {
   "display_name": "Python 3 (ipykernel)",
   "language": "python",
   "name": "python3"
  },
  "language_info": {
   "codemirror_mode": {
    "name": "ipython",
    "version": 3
   },
   "file_extension": ".py",
   "mimetype": "text/x-python",
   "name": "python",
   "nbconvert_exporter": "python",
   "pygments_lexer": "ipython3",
   "version": "3.10.13"
  }
 },
 "nbformat": 4,
 "nbformat_minor": 5
}
