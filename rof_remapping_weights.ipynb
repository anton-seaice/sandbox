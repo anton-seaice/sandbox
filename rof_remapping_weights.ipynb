{
 "cells": [
  {
   "cell_type": "code",
   "execution_count": 1,
   "id": "ac835a4a-1b1c-402b-83ae-05f6616be875",
   "metadata": {
    "execution": {
     "iopub.execute_input": "2025-01-08T22:35:25.026032Z",
     "iopub.status.busy": "2025-01-08T22:35:25.025135Z",
     "iopub.status.idle": "2025-01-08T22:35:25.039224Z",
     "shell.execute_reply": "2025-01-08T22:35:25.037881Z",
     "shell.execute_reply.started": "2025-01-08T22:35:25.025977Z"
    }
   },
   "outputs": [],
   "source": [
    "MODEL_MESH_F = '/g/data/vk83/experiments/inputs/access-om3/share/meshes/global.1deg/2024.01.25/access-om2-1deg-ESMFmesh.nc'"
   ]
  },
  {
   "cell_type": "code",
   "execution_count": 2,
   "id": "dac422c9-784b-409d-9ab8-de3dc5d60a9b",
   "metadata": {
    "execution": {
     "iopub.execute_input": "2025-01-08T22:35:25.042350Z",
     "iopub.status.busy": "2025-01-08T22:35:25.041643Z",
     "iopub.status.idle": "2025-01-08T22:35:25.056817Z",
     "shell.execute_reply": "2025-01-08T22:35:25.055626Z",
     "shell.execute_reply.started": "2025-01-08T22:35:25.042307Z"
    }
   },
   "outputs": [],
   "source": [
    "TEMP_WEIGHTS_F = 'temp_weights.nc'"
   ]
  },
  {
   "cell_type": "code",
   "execution_count": 3,
   "id": "61d6205b-fe21-4a00-b1c6-24e5a73e0c1c",
   "metadata": {
    "execution": {
     "iopub.execute_input": "2025-01-08T22:35:25.059133Z",
     "iopub.status.busy": "2025-01-08T22:35:25.058696Z",
     "iopub.status.idle": "2025-01-08T22:35:25.065467Z",
     "shell.execute_reply": "2025-01-08T22:35:25.064285Z",
     "shell.execute_reply.started": "2025-01-08T22:35:25.059087Z"
    }
   },
   "outputs": [],
   "source": [
    "OUTPUT_F = '/g/data/tm70/as2285/payu/MOM6-CICE6/masked_rof_weights.nc'"
   ]
  },
  {
   "cell_type": "code",
   "execution_count": 4,
   "id": "6455fda4-3b7d-42f1-9494-08ba8f0e0e62",
   "metadata": {
    "execution": {
     "iopub.execute_input": "2025-01-08T22:35:25.067868Z",
     "iopub.status.busy": "2025-01-08T22:35:25.067406Z",
     "iopub.status.idle": "2025-01-08T22:35:33.568239Z",
     "shell.execute_reply": "2025-01-08T22:35:33.566986Z",
     "shell.execute_reply.started": "2025-01-08T22:35:25.067821Z"
    }
   },
   "outputs": [],
   "source": [
    "import xarray as xr\n",
    "\n",
    "import esmpy\n",
    "\n",
    "import numpy as np\n",
    "\n",
    "import matplotlib.pyplot as plt\n",
    "\n",
    "from scipy.spatial import KDTree\n",
    "\n",
    "from copy import copy"
   ]
  },
  {
   "cell_type": "markdown",
   "id": "4087065c-a1b3-47f5-a153-02be07d49481",
   "metadata": {},
   "source": [
    "We need to generate remapping weights for use in the mediator, such that the overall volumne of runoff is conserved and no run-off is mapped onto land cells. Inside the mediator, the grid doesn't change as we run the mediator with the ocean grid (the DROF component remaps from JRA grid to mediator grid)."
   ]
  },
  {
   "cell_type": "markdown",
   "id": "4a87fed9-0f04-43c7-8dd5-614ed8b0c09a",
   "metadata": {},
   "source": [
    "CMEPS only uses esmf files for grids/meshes, so we use the mediator mesh in this format:"
   ]
  },
  {
   "cell_type": "code",
   "execution_count": 5,
   "id": "8ab91461-260f-4f91-b10c-2c9091c00d06",
   "metadata": {
    "execution": {
     "iopub.execute_input": "2025-01-08T22:35:33.572716Z",
     "iopub.status.busy": "2025-01-08T22:35:33.571569Z",
     "iopub.status.idle": "2025-01-08T22:35:37.030755Z",
     "shell.execute_reply": "2025-01-08T22:35:37.029764Z",
     "shell.execute_reply.started": "2025-01-08T22:35:33.572671Z"
    }
   },
   "outputs": [
    {
     "name": "stderr",
     "output_type": "stream",
     "text": [
      "[gadi-cpu-clx-0438.gadi.nci.org.au:2350527] shmem: mmap: an error occurred while determining whether or not /jobfs/132027242.gadi-pbs/ompi.gadi-cpu-clx-0438.17287/jf.0/3708157952/shared_mem_cuda_pool.gadi-cpu-clx-0438 could be created.\n",
      "[gadi-cpu-clx-0438.gadi.nci.org.au:2350527] create_and_attach: unable to create shared memory BTL coordinating structure :: size 134217728 \n"
     ]
    }
   ],
   "source": [
    "model_mesh = esmpy.Mesh(\n",
    "    filename= MODEL_MESH_F, \n",
    "    filetype=esmpy.FileFormat.ESMFMESH,\n",
    ")"
   ]
  },
  {
   "cell_type": "code",
   "execution_count": 6,
   "id": "ce82285c-5820-4fc7-a56b-1f9d9668d42c",
   "metadata": {
    "execution": {
     "iopub.execute_input": "2025-01-08T22:35:37.033628Z",
     "iopub.status.busy": "2025-01-08T22:35:37.032538Z",
     "iopub.status.idle": "2025-01-08T22:35:37.051718Z",
     "shell.execute_reply": "2025-01-08T22:35:37.050728Z",
     "shell.execute_reply.started": "2025-01-08T22:35:37.033568Z"
    }
   },
   "outputs": [
    {
     "data": {
      "text/plain": [
       "Mesh:\n",
       "    rank = 1\n",
       "    size = [108071, 108000]\n",
       "    size_owned = [108071, 108000]\n",
       "    coords = [[array([ 80.,  81.,  81., ..., 260., 260., 260.]), array([-78.        , -78.        , -77.75316839, ...,  66.23869773,\n",
       "        65.83214327,  65.41931068])], [array([80.5       , 81.5       , 82.5       , ..., 79.95558838,\n",
       "       79.97336385, 79.99112309]), array([-77.87662338, -77.87662338, -77.87662338, ...,  66.03603278,\n",
       "        65.62642645,  65.21044485])]]"
      ]
     },
     "execution_count": 6,
     "metadata": {},
     "output_type": "execute_result"
    }
   ],
   "source": [
    "model_mesh"
   ]
  },
  {
   "cell_type": "markdown",
   "id": "bdc9b694-d363-4d55-972d-acf14694369b",
   "metadata": {},
   "source": [
    "Mesh files contain nodes and elements, run-off is a grid cell average, so we want the elements. The mediator is not changing grids, so the mesh is the same for both fields. We need to make ESMF fields to generate remapping weights, (which are all unity):"
   ]
  },
  {
   "cell_type": "code",
   "execution_count": 7,
   "id": "1ee11667-7c69-4359-a4ab-15ae74fa4259",
   "metadata": {
    "execution": {
     "iopub.execute_input": "2025-01-08T22:35:37.053976Z",
     "iopub.status.busy": "2025-01-08T22:35:37.053080Z",
     "iopub.status.idle": "2025-01-08T22:35:37.080631Z",
     "shell.execute_reply": "2025-01-08T22:35:37.079834Z",
     "shell.execute_reply.started": "2025-01-08T22:35:37.053939Z"
    }
   },
   "outputs": [],
   "source": [
    "med_in_fld = esmpy.Field(\n",
    "    model_mesh,\n",
    "    meshloc=esmpy.MeshLoc.ELEMENT\n",
    ")"
   ]
  },
  {
   "cell_type": "code",
   "execution_count": 8,
   "id": "1300ad47-f390-41fb-adbd-4e1f08e511ed",
   "metadata": {
    "execution": {
     "iopub.execute_input": "2025-01-08T22:35:37.081709Z",
     "iopub.status.busy": "2025-01-08T22:35:37.081512Z",
     "iopub.status.idle": "2025-01-08T22:35:37.100894Z",
     "shell.execute_reply": "2025-01-08T22:35:37.100103Z",
     "shell.execute_reply.started": "2025-01-08T22:35:37.081692Z"
    }
   },
   "outputs": [],
   "source": [
    "med_out_fld = esmpy.Field(\n",
    "    model_mesh,\n",
    "    meshloc=esmpy.MeshLoc.ELEMENT\n",
    ")"
   ]
  },
  {
   "cell_type": "markdown",
   "id": "ecda6f53-01ac-4083-b7f9-3d335d4e7069",
   "metadata": {},
   "source": [
    "Generate weights"
   ]
  },
  {
   "cell_type": "code",
   "execution_count": 9,
   "id": "11a54556-9bff-467f-a7e9-69547ae8e6f7",
   "metadata": {
    "execution": {
     "iopub.execute_input": "2025-01-08T22:35:37.103168Z",
     "iopub.status.busy": "2025-01-08T22:35:37.102364Z",
     "iopub.status.idle": "2025-01-08T22:35:37.598278Z",
     "shell.execute_reply": "2025-01-08T22:35:37.596618Z",
     "shell.execute_reply.started": "2025-01-08T22:35:37.103117Z"
    }
   },
   "outputs": [],
   "source": [
    "rm {TEMP_WEIGHTS_F}"
   ]
  },
  {
   "cell_type": "code",
   "execution_count": 10,
   "id": "8d122b38-dd90-4d1b-8009-23f9dfc27b60",
   "metadata": {
    "execution": {
     "iopub.execute_input": "2025-01-08T22:35:37.601389Z",
     "iopub.status.busy": "2025-01-08T22:35:37.600876Z",
     "iopub.status.idle": "2025-01-08T22:35:40.552306Z",
     "shell.execute_reply": "2025-01-08T22:35:40.548603Z",
     "shell.execute_reply.started": "2025-01-08T22:35:37.601340Z"
    }
   },
   "outputs": [],
   "source": [
    "regridder = esmpy.Regrid(\n",
    "    med_in_fld, med_out_fld, \n",
    "    filename = TEMP_WEIGHTS_F ,\n",
    "    regrid_method=esmpy.RegridMethod.CONSERVE,\n",
    "    # unmapped_action=esmpy.UnmappedAction.ERROR, #ignore errors about some destination cells not having source cells,\n",
    ")"
   ]
  },
  {
   "cell_type": "markdown",
   "id": "354351e4-ba6d-4045-b931-02fd491ebc17",
   "metadata": {},
   "source": [
    "Set the incoming runoff to unity everywhere and confirm that nothing happens:"
   ]
  },
  {
   "cell_type": "code",
   "execution_count": 11,
   "id": "b4056f2c-2fc5-4e98-ae3b-8a96757dcc5a",
   "metadata": {
    "execution": {
     "iopub.execute_input": "2025-01-08T22:35:40.557753Z",
     "iopub.status.busy": "2025-01-08T22:35:40.556866Z",
     "iopub.status.idle": "2025-01-08T22:35:40.566323Z",
     "shell.execute_reply": "2025-01-08T22:35:40.565333Z",
     "shell.execute_reply.started": "2025-01-08T22:35:40.557693Z"
    }
   },
   "outputs": [],
   "source": [
    "med_in_fld.data[:]=1"
   ]
  },
  {
   "cell_type": "code",
   "execution_count": 12,
   "id": "cef199e7-9840-4365-a412-01ff1826e0e4",
   "metadata": {
    "execution": {
     "iopub.execute_input": "2025-01-08T22:35:40.567933Z",
     "iopub.status.busy": "2025-01-08T22:35:40.567603Z",
     "iopub.status.idle": "2025-01-08T22:35:40.583149Z",
     "shell.execute_reply": "2025-01-08T22:35:40.582190Z",
     "shell.execute_reply.started": "2025-01-08T22:35:40.567900Z"
    },
    "scrolled": true
   },
   "outputs": [
    {
     "data": {
      "text/plain": [
       "Field:\n",
       "    name = None\n",
       "    type = <TypeKind.R8: 6>\n",
       "    rank = 1\n",
       "    extra dimensions = 0\n",
       "    staggerloc = 1\n",
       "    lower bounds = array([0], dtype=int32)\n",
       "    upper bounds = array([108000], dtype=int32)\n",
       "    extra bounds = None\n",
       "    data = array([1., 1., 1., ..., 1., 1., 1.])\n",
       "    grid = \n",
       "Mesh:\n",
       "    rank = 1\n",
       "    size = [108071, 108000]\n",
       "    size_owned = [108071, 108000]\n",
       "    coords = [[array([ 80.,  81.,  81., ..., 260., 260., 260.]), array([-78.        , -78.        , -77.75316839, ...,  66.23869773,\n",
       "        65.83214327,  65.41931068])], [array([80.5       , 81.5       , 82.5       , ..., 79.95558838,\n",
       "       79.97336385, 79.99112309]), array([-77.87662338, -77.87662338, -77.87662338, ...,  66.03603278,\n",
       "        65.62642645,  65.21044485])]]\n",
       "\n",
       ")"
      ]
     },
     "execution_count": 12,
     "metadata": {},
     "output_type": "execute_result"
    }
   ],
   "source": [
    "regridder(med_in_fld, med_out_fld)"
   ]
  },
  {
   "cell_type": "code",
   "execution_count": 13,
   "id": "51bf5116-7876-4983-87f0-c9b3a3e7f28e",
   "metadata": {
    "execution": {
     "iopub.execute_input": "2025-01-08T22:35:40.584983Z",
     "iopub.status.busy": "2025-01-08T22:35:40.584408Z",
     "iopub.status.idle": "2025-01-08T22:35:40.590913Z",
     "shell.execute_reply": "2025-01-08T22:35:40.589995Z",
     "shell.execute_reply.started": "2025-01-08T22:35:40.584951Z"
    }
   },
   "outputs": [
    {
     "data": {
      "text/plain": [
       "array([1., 1., 1., ..., 1., 1., 1.])"
      ]
     },
     "execution_count": 13,
     "metadata": {},
     "output_type": "execute_result"
    }
   ],
   "source": [
    "med_out_fld.data"
   ]
  },
  {
   "cell_type": "code",
   "execution_count": 14,
   "id": "954394d1-ea49-4136-85fe-d227c0f9f16c",
   "metadata": {
    "execution": {
     "iopub.execute_input": "2025-01-08T22:35:40.597139Z",
     "iopub.status.busy": "2025-01-08T22:35:40.596564Z",
     "iopub.status.idle": "2025-01-08T22:35:40.604343Z",
     "shell.execute_reply": "2025-01-08T22:35:40.603490Z",
     "shell.execute_reply.started": "2025-01-08T22:35:40.597106Z"
    }
   },
   "outputs": [],
   "source": [
    "assert all(med_in_fld.data == med_out_fld.data)"
   ]
  },
  {
   "cell_type": "markdown",
   "id": "e18bbf07-43a4-4f93-a46a-0946fc7dfff3",
   "metadata": {},
   "source": [
    "Now we have a template weight file, we can adjust for the land mask:"
   ]
  },
  {
   "cell_type": "code",
   "execution_count": 15,
   "id": "8092a991-fce8-499c-ab44-d00d9dc1f0db",
   "metadata": {
    "execution": {
     "iopub.execute_input": "2025-01-08T22:35:40.606520Z",
     "iopub.status.busy": "2025-01-08T22:35:40.605960Z",
     "iopub.status.idle": "2025-01-08T22:36:05.058915Z",
     "shell.execute_reply": "2025-01-08T22:36:05.057622Z",
     "shell.execute_reply.started": "2025-01-08T22:35:40.606469Z"
    },
    "scrolled": true
   },
   "outputs": [],
   "source": [
    "weights_ds = xr.open_dataset(TEMP_WEIGHTS_F)"
   ]
  },
  {
   "cell_type": "code",
   "execution_count": 16,
   "id": "e73090f3-e576-44d2-aa88-50aade13d9d6",
   "metadata": {
    "execution": {
     "iopub.execute_input": "2025-01-08T22:36:05.061346Z",
     "iopub.status.busy": "2025-01-08T22:36:05.060593Z",
     "iopub.status.idle": "2025-01-08T22:36:05.179967Z",
     "shell.execute_reply": "2025-01-08T22:36:05.178792Z",
     "shell.execute_reply.started": "2025-01-08T22:36:05.061309Z"
    }
   },
   "outputs": [
    {
     "data": {
      "text/html": [
       "<div><svg style=\"position: absolute; width: 0; height: 0; overflow: hidden\">\n",
       "<defs>\n",
       "<symbol id=\"icon-database\" viewBox=\"0 0 32 32\">\n",
       "<path d=\"M16 0c-8.837 0-16 2.239-16 5v4c0 2.761 7.163 5 16 5s16-2.239 16-5v-4c0-2.761-7.163-5-16-5z\"></path>\n",
       "<path d=\"M16 17c-8.837 0-16-2.239-16-5v6c0 2.761 7.163 5 16 5s16-2.239 16-5v-6c0 2.761-7.163 5-16 5z\"></path>\n",
       "<path d=\"M16 26c-8.837 0-16-2.239-16-5v6c0 2.761 7.163 5 16 5s16-2.239 16-5v-6c0 2.761-7.163 5-16 5z\"></path>\n",
       "</symbol>\n",
       "<symbol id=\"icon-file-text2\" viewBox=\"0 0 32 32\">\n",
       "<path d=\"M28.681 7.159c-0.694-0.947-1.662-2.053-2.724-3.116s-2.169-2.030-3.116-2.724c-1.612-1.182-2.393-1.319-2.841-1.319h-15.5c-1.378 0-2.5 1.121-2.5 2.5v27c0 1.378 1.122 2.5 2.5 2.5h23c1.378 0 2.5-1.122 2.5-2.5v-19.5c0-0.448-0.137-1.23-1.319-2.841zM24.543 5.457c0.959 0.959 1.712 1.825 2.268 2.543h-4.811v-4.811c0.718 0.556 1.584 1.309 2.543 2.268zM28 29.5c0 0.271-0.229 0.5-0.5 0.5h-23c-0.271 0-0.5-0.229-0.5-0.5v-27c0-0.271 0.229-0.5 0.5-0.5 0 0 15.499-0 15.5 0v7c0 0.552 0.448 1 1 1h7v19.5z\"></path>\n",
       "<path d=\"M23 26h-14c-0.552 0-1-0.448-1-1s0.448-1 1-1h14c0.552 0 1 0.448 1 1s-0.448 1-1 1z\"></path>\n",
       "<path d=\"M23 22h-14c-0.552 0-1-0.448-1-1s0.448-1 1-1h14c0.552 0 1 0.448 1 1s-0.448 1-1 1z\"></path>\n",
       "<path d=\"M23 18h-14c-0.552 0-1-0.448-1-1s0.448-1 1-1h14c0.552 0 1 0.448 1 1s-0.448 1-1 1z\"></path>\n",
       "</symbol>\n",
       "</defs>\n",
       "</svg>\n",
       "<style>/* CSS stylesheet for displaying xarray objects in jupyterlab.\n",
       " *\n",
       " */\n",
       "\n",
       ":root {\n",
       "  --xr-font-color0: var(--jp-content-font-color0, rgba(0, 0, 0, 1));\n",
       "  --xr-font-color2: var(--jp-content-font-color2, rgba(0, 0, 0, 0.54));\n",
       "  --xr-font-color3: var(--jp-content-font-color3, rgba(0, 0, 0, 0.38));\n",
       "  --xr-border-color: var(--jp-border-color2, #e0e0e0);\n",
       "  --xr-disabled-color: var(--jp-layout-color3, #bdbdbd);\n",
       "  --xr-background-color: var(--jp-layout-color0, white);\n",
       "  --xr-background-color-row-even: var(--jp-layout-color1, white);\n",
       "  --xr-background-color-row-odd: var(--jp-layout-color2, #eeeeee);\n",
       "}\n",
       "\n",
       "html[theme=\"dark\"],\n",
       "html[data-theme=\"dark\"],\n",
       "body[data-theme=\"dark\"],\n",
       "body.vscode-dark {\n",
       "  --xr-font-color0: rgba(255, 255, 255, 1);\n",
       "  --xr-font-color2: rgba(255, 255, 255, 0.54);\n",
       "  --xr-font-color3: rgba(255, 255, 255, 0.38);\n",
       "  --xr-border-color: #1f1f1f;\n",
       "  --xr-disabled-color: #515151;\n",
       "  --xr-background-color: #111111;\n",
       "  --xr-background-color-row-even: #111111;\n",
       "  --xr-background-color-row-odd: #313131;\n",
       "}\n",
       "\n",
       ".xr-wrap {\n",
       "  display: block !important;\n",
       "  min-width: 300px;\n",
       "  max-width: 700px;\n",
       "}\n",
       "\n",
       ".xr-text-repr-fallback {\n",
       "  /* fallback to plain text repr when CSS is not injected (untrusted notebook) */\n",
       "  display: none;\n",
       "}\n",
       "\n",
       ".xr-header {\n",
       "  padding-top: 6px;\n",
       "  padding-bottom: 6px;\n",
       "  margin-bottom: 4px;\n",
       "  border-bottom: solid 1px var(--xr-border-color);\n",
       "}\n",
       "\n",
       ".xr-header > div,\n",
       ".xr-header > ul {\n",
       "  display: inline;\n",
       "  margin-top: 0;\n",
       "  margin-bottom: 0;\n",
       "}\n",
       "\n",
       ".xr-obj-type,\n",
       ".xr-array-name {\n",
       "  margin-left: 2px;\n",
       "  margin-right: 10px;\n",
       "}\n",
       "\n",
       ".xr-obj-type {\n",
       "  color: var(--xr-font-color2);\n",
       "}\n",
       "\n",
       ".xr-sections {\n",
       "  padding-left: 0 !important;\n",
       "  display: grid;\n",
       "  grid-template-columns: 150px auto auto 1fr 0 20px 0 20px;\n",
       "}\n",
       "\n",
       ".xr-section-item {\n",
       "  display: contents;\n",
       "}\n",
       "\n",
       ".xr-section-item input {\n",
       "  display: inline-block;\n",
       "  opacity: 0;\n",
       "  height: 0;\n",
       "}\n",
       "\n",
       ".xr-section-item input + label {\n",
       "  color: var(--xr-disabled-color);\n",
       "}\n",
       "\n",
       ".xr-section-item input:enabled + label {\n",
       "  cursor: pointer;\n",
       "  color: var(--xr-font-color2);\n",
       "}\n",
       "\n",
       ".xr-section-item input:focus + label {\n",
       "  border: 2px solid var(--xr-font-color0);\n",
       "}\n",
       "\n",
       ".xr-section-item input:enabled + label:hover {\n",
       "  color: var(--xr-font-color0);\n",
       "}\n",
       "\n",
       ".xr-section-summary {\n",
       "  grid-column: 1;\n",
       "  color: var(--xr-font-color2);\n",
       "  font-weight: 500;\n",
       "}\n",
       "\n",
       ".xr-section-summary > span {\n",
       "  display: inline-block;\n",
       "  padding-left: 0.5em;\n",
       "}\n",
       "\n",
       ".xr-section-summary-in:disabled + label {\n",
       "  color: var(--xr-font-color2);\n",
       "}\n",
       "\n",
       ".xr-section-summary-in + label:before {\n",
       "  display: inline-block;\n",
       "  content: \"►\";\n",
       "  font-size: 11px;\n",
       "  width: 15px;\n",
       "  text-align: center;\n",
       "}\n",
       "\n",
       ".xr-section-summary-in:disabled + label:before {\n",
       "  color: var(--xr-disabled-color);\n",
       "}\n",
       "\n",
       ".xr-section-summary-in:checked + label:before {\n",
       "  content: \"▼\";\n",
       "}\n",
       "\n",
       ".xr-section-summary-in:checked + label > span {\n",
       "  display: none;\n",
       "}\n",
       "\n",
       ".xr-section-summary,\n",
       ".xr-section-inline-details {\n",
       "  padding-top: 4px;\n",
       "  padding-bottom: 4px;\n",
       "}\n",
       "\n",
       ".xr-section-inline-details {\n",
       "  grid-column: 2 / -1;\n",
       "}\n",
       "\n",
       ".xr-section-details {\n",
       "  display: none;\n",
       "  grid-column: 1 / -1;\n",
       "  margin-bottom: 5px;\n",
       "}\n",
       "\n",
       ".xr-section-summary-in:checked ~ .xr-section-details {\n",
       "  display: contents;\n",
       "}\n",
       "\n",
       ".xr-array-wrap {\n",
       "  grid-column: 1 / -1;\n",
       "  display: grid;\n",
       "  grid-template-columns: 20px auto;\n",
       "}\n",
       "\n",
       ".xr-array-wrap > label {\n",
       "  grid-column: 1;\n",
       "  vertical-align: top;\n",
       "}\n",
       "\n",
       ".xr-preview {\n",
       "  color: var(--xr-font-color3);\n",
       "}\n",
       "\n",
       ".xr-array-preview,\n",
       ".xr-array-data {\n",
       "  padding: 0 5px !important;\n",
       "  grid-column: 2;\n",
       "}\n",
       "\n",
       ".xr-array-data,\n",
       ".xr-array-in:checked ~ .xr-array-preview {\n",
       "  display: none;\n",
       "}\n",
       "\n",
       ".xr-array-in:checked ~ .xr-array-data,\n",
       ".xr-array-preview {\n",
       "  display: inline-block;\n",
       "}\n",
       "\n",
       ".xr-dim-list {\n",
       "  display: inline-block !important;\n",
       "  list-style: none;\n",
       "  padding: 0 !important;\n",
       "  margin: 0;\n",
       "}\n",
       "\n",
       ".xr-dim-list li {\n",
       "  display: inline-block;\n",
       "  padding: 0;\n",
       "  margin: 0;\n",
       "}\n",
       "\n",
       ".xr-dim-list:before {\n",
       "  content: \"(\";\n",
       "}\n",
       "\n",
       ".xr-dim-list:after {\n",
       "  content: \")\";\n",
       "}\n",
       "\n",
       ".xr-dim-list li:not(:last-child):after {\n",
       "  content: \",\";\n",
       "  padding-right: 5px;\n",
       "}\n",
       "\n",
       ".xr-has-index {\n",
       "  font-weight: bold;\n",
       "}\n",
       "\n",
       ".xr-var-list,\n",
       ".xr-var-item {\n",
       "  display: contents;\n",
       "}\n",
       "\n",
       ".xr-var-item > div,\n",
       ".xr-var-item label,\n",
       ".xr-var-item > .xr-var-name span {\n",
       "  background-color: var(--xr-background-color-row-even);\n",
       "  margin-bottom: 0;\n",
       "}\n",
       "\n",
       ".xr-var-item > .xr-var-name:hover span {\n",
       "  padding-right: 5px;\n",
       "}\n",
       "\n",
       ".xr-var-list > li:nth-child(odd) > div,\n",
       ".xr-var-list > li:nth-child(odd) > label,\n",
       ".xr-var-list > li:nth-child(odd) > .xr-var-name span {\n",
       "  background-color: var(--xr-background-color-row-odd);\n",
       "}\n",
       "\n",
       ".xr-var-name {\n",
       "  grid-column: 1;\n",
       "}\n",
       "\n",
       ".xr-var-dims {\n",
       "  grid-column: 2;\n",
       "}\n",
       "\n",
       ".xr-var-dtype {\n",
       "  grid-column: 3;\n",
       "  text-align: right;\n",
       "  color: var(--xr-font-color2);\n",
       "}\n",
       "\n",
       ".xr-var-preview {\n",
       "  grid-column: 4;\n",
       "}\n",
       "\n",
       ".xr-index-preview {\n",
       "  grid-column: 2 / 5;\n",
       "  color: var(--xr-font-color2);\n",
       "}\n",
       "\n",
       ".xr-var-name,\n",
       ".xr-var-dims,\n",
       ".xr-var-dtype,\n",
       ".xr-preview,\n",
       ".xr-attrs dt {\n",
       "  white-space: nowrap;\n",
       "  overflow: hidden;\n",
       "  text-overflow: ellipsis;\n",
       "  padding-right: 10px;\n",
       "}\n",
       "\n",
       ".xr-var-name:hover,\n",
       ".xr-var-dims:hover,\n",
       ".xr-var-dtype:hover,\n",
       ".xr-attrs dt:hover {\n",
       "  overflow: visible;\n",
       "  width: auto;\n",
       "  z-index: 1;\n",
       "}\n",
       "\n",
       ".xr-var-attrs,\n",
       ".xr-var-data,\n",
       ".xr-index-data {\n",
       "  display: none;\n",
       "  background-color: var(--xr-background-color) !important;\n",
       "  padding-bottom: 5px !important;\n",
       "}\n",
       "\n",
       ".xr-var-attrs-in:checked ~ .xr-var-attrs,\n",
       ".xr-var-data-in:checked ~ .xr-var-data,\n",
       ".xr-index-data-in:checked ~ .xr-index-data {\n",
       "  display: block;\n",
       "}\n",
       "\n",
       ".xr-var-data > table {\n",
       "  float: right;\n",
       "}\n",
       "\n",
       ".xr-var-name span,\n",
       ".xr-var-data,\n",
       ".xr-index-name div,\n",
       ".xr-index-data,\n",
       ".xr-attrs {\n",
       "  padding-left: 25px !important;\n",
       "}\n",
       "\n",
       ".xr-attrs,\n",
       ".xr-var-attrs,\n",
       ".xr-var-data,\n",
       ".xr-index-data {\n",
       "  grid-column: 1 / -1;\n",
       "}\n",
       "\n",
       "dl.xr-attrs {\n",
       "  padding: 0;\n",
       "  margin: 0;\n",
       "  display: grid;\n",
       "  grid-template-columns: 125px auto;\n",
       "}\n",
       "\n",
       ".xr-attrs dt,\n",
       ".xr-attrs dd {\n",
       "  padding: 0;\n",
       "  margin: 0;\n",
       "  float: left;\n",
       "  padding-right: 10px;\n",
       "  width: auto;\n",
       "}\n",
       "\n",
       ".xr-attrs dt {\n",
       "  font-weight: normal;\n",
       "  grid-column: 1;\n",
       "}\n",
       "\n",
       ".xr-attrs dt:hover span {\n",
       "  display: inline-block;\n",
       "  background: var(--xr-background-color);\n",
       "  padding-right: 10px;\n",
       "}\n",
       "\n",
       ".xr-attrs dd {\n",
       "  grid-column: 2;\n",
       "  white-space: pre-wrap;\n",
       "  word-break: break-all;\n",
       "}\n",
       "\n",
       ".xr-icon-database,\n",
       ".xr-icon-file-text2,\n",
       ".xr-no-icon {\n",
       "  display: inline-block;\n",
       "  vertical-align: middle;\n",
       "  width: 1em;\n",
       "  height: 1.5em !important;\n",
       "  stroke-width: 0;\n",
       "  stroke: currentColor;\n",
       "  fill: currentColor;\n",
       "}\n",
       "</style><pre class='xr-text-repr-fallback'>&lt;xarray.Dataset&gt; Size: 2MB\n",
       "Dimensions:  (n_s: 108000)\n",
       "Dimensions without coordinates: n_s\n",
       "Data variables:\n",
       "    S        (n_s) float64 864kB ...\n",
       "    col      (n_s) int32 432kB ...\n",
       "    row      (n_s) int32 432kB ...</pre><div class='xr-wrap' style='display:none'><div class='xr-header'><div class='xr-obj-type'>xarray.Dataset</div></div><ul class='xr-sections'><li class='xr-section-item'><input id='section-f8584d9a-0ea9-45a7-8956-d3507d41431a' class='xr-section-summary-in' type='checkbox' disabled ><label for='section-f8584d9a-0ea9-45a7-8956-d3507d41431a' class='xr-section-summary'  title='Expand/collapse section'>Dimensions:</label><div class='xr-section-inline-details'><ul class='xr-dim-list'><li><span>n_s</span>: 108000</li></ul></div><div class='xr-section-details'></div></li><li class='xr-section-item'><input id='section-cb34b5b6-679f-482e-9965-44cd145c3f77' class='xr-section-summary-in' type='checkbox' disabled ><label for='section-cb34b5b6-679f-482e-9965-44cd145c3f77' class='xr-section-summary'  title='Expand/collapse section'>Coordinates: <span>(0)</span></label><div class='xr-section-inline-details'></div><div class='xr-section-details'><ul class='xr-var-list'></ul></div></li><li class='xr-section-item'><input id='section-87bdbf80-adb0-4a24-a39f-7de9eec9f729' class='xr-section-summary-in' type='checkbox'  checked><label for='section-87bdbf80-adb0-4a24-a39f-7de9eec9f729' class='xr-section-summary' >Data variables: <span>(3)</span></label><div class='xr-section-inline-details'></div><div class='xr-section-details'><ul class='xr-var-list'><li class='xr-var-item'><div class='xr-var-name'><span>S</span></div><div class='xr-var-dims'>(n_s)</div><div class='xr-var-dtype'>float64</div><div class='xr-var-preview xr-preview'>...</div><input id='attrs-60b8340e-813b-4ff7-9bf5-d283939c8509' class='xr-var-attrs-in' type='checkbox' disabled><label for='attrs-60b8340e-813b-4ff7-9bf5-d283939c8509' title='Show/Hide attributes'><svg class='icon xr-icon-file-text2'><use xlink:href='#icon-file-text2'></use></svg></label><input id='data-84d5e932-7fb6-4ca0-9e1f-d29fa90c1538' class='xr-var-data-in' type='checkbox'><label for='data-84d5e932-7fb6-4ca0-9e1f-d29fa90c1538' title='Show/Hide data repr'><svg class='icon xr-icon-database'><use xlink:href='#icon-database'></use></svg></label><div class='xr-var-attrs'><dl class='xr-attrs'></dl></div><div class='xr-var-data'><pre>[108000 values with dtype=float64]</pre></div></li><li class='xr-var-item'><div class='xr-var-name'><span>col</span></div><div class='xr-var-dims'>(n_s)</div><div class='xr-var-dtype'>int32</div><div class='xr-var-preview xr-preview'>...</div><input id='attrs-7cde2591-8aec-4f94-b7c2-bf8496ccc61c' class='xr-var-attrs-in' type='checkbox' disabled><label for='attrs-7cde2591-8aec-4f94-b7c2-bf8496ccc61c' title='Show/Hide attributes'><svg class='icon xr-icon-file-text2'><use xlink:href='#icon-file-text2'></use></svg></label><input id='data-9b635cf1-e28c-4cb0-ad6d-ef5f4ee4f0af' class='xr-var-data-in' type='checkbox'><label for='data-9b635cf1-e28c-4cb0-ad6d-ef5f4ee4f0af' title='Show/Hide data repr'><svg class='icon xr-icon-database'><use xlink:href='#icon-database'></use></svg></label><div class='xr-var-attrs'><dl class='xr-attrs'></dl></div><div class='xr-var-data'><pre>[108000 values with dtype=int32]</pre></div></li><li class='xr-var-item'><div class='xr-var-name'><span>row</span></div><div class='xr-var-dims'>(n_s)</div><div class='xr-var-dtype'>int32</div><div class='xr-var-preview xr-preview'>...</div><input id='attrs-c9977b94-a387-4da7-a00a-8a636dbea3c1' class='xr-var-attrs-in' type='checkbox' disabled><label for='attrs-c9977b94-a387-4da7-a00a-8a636dbea3c1' title='Show/Hide attributes'><svg class='icon xr-icon-file-text2'><use xlink:href='#icon-file-text2'></use></svg></label><input id='data-47e5074a-5212-46b6-bae9-44b10042fa7a' class='xr-var-data-in' type='checkbox'><label for='data-47e5074a-5212-46b6-bae9-44b10042fa7a' title='Show/Hide data repr'><svg class='icon xr-icon-database'><use xlink:href='#icon-database'></use></svg></label><div class='xr-var-attrs'><dl class='xr-attrs'></dl></div><div class='xr-var-data'><pre>[108000 values with dtype=int32]</pre></div></li></ul></div></li><li class='xr-section-item'><input id='section-3a9fe4fe-1319-4c36-882d-a287432af3e1' class='xr-section-summary-in' type='checkbox' disabled ><label for='section-3a9fe4fe-1319-4c36-882d-a287432af3e1' class='xr-section-summary'  title='Expand/collapse section'>Indexes: <span>(0)</span></label><div class='xr-section-inline-details'></div><div class='xr-section-details'><ul class='xr-var-list'></ul></div></li><li class='xr-section-item'><input id='section-1ee68d8a-4789-4d98-ae9d-1b6f6b6f8d96' class='xr-section-summary-in' type='checkbox' disabled ><label for='section-1ee68d8a-4789-4d98-ae9d-1b6f6b6f8d96' class='xr-section-summary'  title='Expand/collapse section'>Attributes: <span>(0)</span></label><div class='xr-section-inline-details'></div><div class='xr-section-details'><dl class='xr-attrs'></dl></div></li></ul></div></div>"
      ],
      "text/plain": [
       "<xarray.Dataset> Size: 2MB\n",
       "Dimensions:  (n_s: 108000)\n",
       "Dimensions without coordinates: n_s\n",
       "Data variables:\n",
       "    S        (n_s) float64 864kB ...\n",
       "    col      (n_s) int32 432kB ...\n",
       "    row      (n_s) int32 432kB ..."
      ]
     },
     "execution_count": 16,
     "metadata": {},
     "output_type": "execute_result"
    }
   ],
   "source": [
    "weights_ds"
   ]
  },
  {
   "cell_type": "raw",
   "id": "26c0fe73-1504-4a54-a328-ba103951b56a",
   "metadata": {
    "execution": {
     "iopub.execute_input": "2025-01-06T03:20:27.149791Z",
     "iopub.status.busy": "2025-01-06T03:20:27.148987Z",
     "iopub.status.idle": "2025-01-06T03:20:27.159148Z",
     "shell.execute_reply": "2025-01-06T03:20:27.157627Z",
     "shell.execute_reply.started": "2025-01-06T03:20:27.149741Z"
    }
   },
   "source": [
    "From https://earthsystemmodeling.org/docs/release/ESMF_5_2_0rp3/ESMF_refdoc/node3.html\n",
    "\n",
    "\" The indices and weights generated by ESMF_FieldRegridStore() are stored in the output file as variables col, row and S. Where col and row are the indices to the source and the destination grid cells. These are a one-dimension array with length defined by dimension n_s. S is the weight which is multiplied by the source value indicated by col and then summed with the destination value indicated by row to build the final interpolated value of the destination. "
   ]
  },
  {
   "cell_type": "markdown",
   "id": "61d4d18e-1f56-4793-a82a-799064d175d8",
   "metadata": {},
   "source": [
    "Per the above note, we want to adjust all row values, so they are ocean cells. When we do this, we want to adjust S, the weight to account for the difference in area."
   ]
  },
  {
   "cell_type": "markdown",
   "id": "fd2f777f-9dbd-4ec6-a8b5-694db630b74f",
   "metadata": {},
   "source": [
    "Open the mesh file directly to get the mask"
   ]
  },
  {
   "cell_type": "code",
   "execution_count": 17,
   "id": "95879733-d467-4000-8405-08221ddca3d4",
   "metadata": {
    "execution": {
     "iopub.execute_input": "2025-01-08T22:36:05.182477Z",
     "iopub.status.busy": "2025-01-08T22:36:05.181655Z",
     "iopub.status.idle": "2025-01-08T22:36:05.272307Z",
     "shell.execute_reply": "2025-01-08T22:36:05.271325Z",
     "shell.execute_reply.started": "2025-01-08T22:36:05.182428Z"
    }
   },
   "outputs": [],
   "source": [
    "mod_mesh_ds = xr.open_dataset(MODEL_MESH_F)"
   ]
  },
  {
   "cell_type": "code",
   "execution_count": 18,
   "id": "a137f3e7-5075-4fa8-99a5-df98b8119239",
   "metadata": {
    "execution": {
     "iopub.execute_input": "2025-01-08T22:36:05.273879Z",
     "iopub.status.busy": "2025-01-08T22:36:05.273571Z",
     "iopub.status.idle": "2025-01-08T22:36:05.282522Z",
     "shell.execute_reply": "2025-01-08T22:36:05.281675Z",
     "shell.execute_reply.started": "2025-01-08T22:36:05.273852Z"
    }
   },
   "outputs": [
    {
     "data": {
      "text/html": [
       "<div><svg style=\"position: absolute; width: 0; height: 0; overflow: hidden\">\n",
       "<defs>\n",
       "<symbol id=\"icon-database\" viewBox=\"0 0 32 32\">\n",
       "<path d=\"M16 0c-8.837 0-16 2.239-16 5v4c0 2.761 7.163 5 16 5s16-2.239 16-5v-4c0-2.761-7.163-5-16-5z\"></path>\n",
       "<path d=\"M16 17c-8.837 0-16-2.239-16-5v6c0 2.761 7.163 5 16 5s16-2.239 16-5v-6c0 2.761-7.163 5-16 5z\"></path>\n",
       "<path d=\"M16 26c-8.837 0-16-2.239-16-5v6c0 2.761 7.163 5 16 5s16-2.239 16-5v-6c0 2.761-7.163 5-16 5z\"></path>\n",
       "</symbol>\n",
       "<symbol id=\"icon-file-text2\" viewBox=\"0 0 32 32\">\n",
       "<path d=\"M28.681 7.159c-0.694-0.947-1.662-2.053-2.724-3.116s-2.169-2.030-3.116-2.724c-1.612-1.182-2.393-1.319-2.841-1.319h-15.5c-1.378 0-2.5 1.121-2.5 2.5v27c0 1.378 1.122 2.5 2.5 2.5h23c1.378 0 2.5-1.122 2.5-2.5v-19.5c0-0.448-0.137-1.23-1.319-2.841zM24.543 5.457c0.959 0.959 1.712 1.825 2.268 2.543h-4.811v-4.811c0.718 0.556 1.584 1.309 2.543 2.268zM28 29.5c0 0.271-0.229 0.5-0.5 0.5h-23c-0.271 0-0.5-0.229-0.5-0.5v-27c0-0.271 0.229-0.5 0.5-0.5 0 0 15.499-0 15.5 0v7c0 0.552 0.448 1 1 1h7v19.5z\"></path>\n",
       "<path d=\"M23 26h-14c-0.552 0-1-0.448-1-1s0.448-1 1-1h14c0.552 0 1 0.448 1 1s-0.448 1-1 1z\"></path>\n",
       "<path d=\"M23 22h-14c-0.552 0-1-0.448-1-1s0.448-1 1-1h14c0.552 0 1 0.448 1 1s-0.448 1-1 1z\"></path>\n",
       "<path d=\"M23 18h-14c-0.552 0-1-0.448-1-1s0.448-1 1-1h14c0.552 0 1 0.448 1 1s-0.448 1-1 1z\"></path>\n",
       "</symbol>\n",
       "</defs>\n",
       "</svg>\n",
       "<style>/* CSS stylesheet for displaying xarray objects in jupyterlab.\n",
       " *\n",
       " */\n",
       "\n",
       ":root {\n",
       "  --xr-font-color0: var(--jp-content-font-color0, rgba(0, 0, 0, 1));\n",
       "  --xr-font-color2: var(--jp-content-font-color2, rgba(0, 0, 0, 0.54));\n",
       "  --xr-font-color3: var(--jp-content-font-color3, rgba(0, 0, 0, 0.38));\n",
       "  --xr-border-color: var(--jp-border-color2, #e0e0e0);\n",
       "  --xr-disabled-color: var(--jp-layout-color3, #bdbdbd);\n",
       "  --xr-background-color: var(--jp-layout-color0, white);\n",
       "  --xr-background-color-row-even: var(--jp-layout-color1, white);\n",
       "  --xr-background-color-row-odd: var(--jp-layout-color2, #eeeeee);\n",
       "}\n",
       "\n",
       "html[theme=\"dark\"],\n",
       "html[data-theme=\"dark\"],\n",
       "body[data-theme=\"dark\"],\n",
       "body.vscode-dark {\n",
       "  --xr-font-color0: rgba(255, 255, 255, 1);\n",
       "  --xr-font-color2: rgba(255, 255, 255, 0.54);\n",
       "  --xr-font-color3: rgba(255, 255, 255, 0.38);\n",
       "  --xr-border-color: #1f1f1f;\n",
       "  --xr-disabled-color: #515151;\n",
       "  --xr-background-color: #111111;\n",
       "  --xr-background-color-row-even: #111111;\n",
       "  --xr-background-color-row-odd: #313131;\n",
       "}\n",
       "\n",
       ".xr-wrap {\n",
       "  display: block !important;\n",
       "  min-width: 300px;\n",
       "  max-width: 700px;\n",
       "}\n",
       "\n",
       ".xr-text-repr-fallback {\n",
       "  /* fallback to plain text repr when CSS is not injected (untrusted notebook) */\n",
       "  display: none;\n",
       "}\n",
       "\n",
       ".xr-header {\n",
       "  padding-top: 6px;\n",
       "  padding-bottom: 6px;\n",
       "  margin-bottom: 4px;\n",
       "  border-bottom: solid 1px var(--xr-border-color);\n",
       "}\n",
       "\n",
       ".xr-header > div,\n",
       ".xr-header > ul {\n",
       "  display: inline;\n",
       "  margin-top: 0;\n",
       "  margin-bottom: 0;\n",
       "}\n",
       "\n",
       ".xr-obj-type,\n",
       ".xr-array-name {\n",
       "  margin-left: 2px;\n",
       "  margin-right: 10px;\n",
       "}\n",
       "\n",
       ".xr-obj-type {\n",
       "  color: var(--xr-font-color2);\n",
       "}\n",
       "\n",
       ".xr-sections {\n",
       "  padding-left: 0 !important;\n",
       "  display: grid;\n",
       "  grid-template-columns: 150px auto auto 1fr 0 20px 0 20px;\n",
       "}\n",
       "\n",
       ".xr-section-item {\n",
       "  display: contents;\n",
       "}\n",
       "\n",
       ".xr-section-item input {\n",
       "  display: inline-block;\n",
       "  opacity: 0;\n",
       "  height: 0;\n",
       "}\n",
       "\n",
       ".xr-section-item input + label {\n",
       "  color: var(--xr-disabled-color);\n",
       "}\n",
       "\n",
       ".xr-section-item input:enabled + label {\n",
       "  cursor: pointer;\n",
       "  color: var(--xr-font-color2);\n",
       "}\n",
       "\n",
       ".xr-section-item input:focus + label {\n",
       "  border: 2px solid var(--xr-font-color0);\n",
       "}\n",
       "\n",
       ".xr-section-item input:enabled + label:hover {\n",
       "  color: var(--xr-font-color0);\n",
       "}\n",
       "\n",
       ".xr-section-summary {\n",
       "  grid-column: 1;\n",
       "  color: var(--xr-font-color2);\n",
       "  font-weight: 500;\n",
       "}\n",
       "\n",
       ".xr-section-summary > span {\n",
       "  display: inline-block;\n",
       "  padding-left: 0.5em;\n",
       "}\n",
       "\n",
       ".xr-section-summary-in:disabled + label {\n",
       "  color: var(--xr-font-color2);\n",
       "}\n",
       "\n",
       ".xr-section-summary-in + label:before {\n",
       "  display: inline-block;\n",
       "  content: \"►\";\n",
       "  font-size: 11px;\n",
       "  width: 15px;\n",
       "  text-align: center;\n",
       "}\n",
       "\n",
       ".xr-section-summary-in:disabled + label:before {\n",
       "  color: var(--xr-disabled-color);\n",
       "}\n",
       "\n",
       ".xr-section-summary-in:checked + label:before {\n",
       "  content: \"▼\";\n",
       "}\n",
       "\n",
       ".xr-section-summary-in:checked + label > span {\n",
       "  display: none;\n",
       "}\n",
       "\n",
       ".xr-section-summary,\n",
       ".xr-section-inline-details {\n",
       "  padding-top: 4px;\n",
       "  padding-bottom: 4px;\n",
       "}\n",
       "\n",
       ".xr-section-inline-details {\n",
       "  grid-column: 2 / -1;\n",
       "}\n",
       "\n",
       ".xr-section-details {\n",
       "  display: none;\n",
       "  grid-column: 1 / -1;\n",
       "  margin-bottom: 5px;\n",
       "}\n",
       "\n",
       ".xr-section-summary-in:checked ~ .xr-section-details {\n",
       "  display: contents;\n",
       "}\n",
       "\n",
       ".xr-array-wrap {\n",
       "  grid-column: 1 / -1;\n",
       "  display: grid;\n",
       "  grid-template-columns: 20px auto;\n",
       "}\n",
       "\n",
       ".xr-array-wrap > label {\n",
       "  grid-column: 1;\n",
       "  vertical-align: top;\n",
       "}\n",
       "\n",
       ".xr-preview {\n",
       "  color: var(--xr-font-color3);\n",
       "}\n",
       "\n",
       ".xr-array-preview,\n",
       ".xr-array-data {\n",
       "  padding: 0 5px !important;\n",
       "  grid-column: 2;\n",
       "}\n",
       "\n",
       ".xr-array-data,\n",
       ".xr-array-in:checked ~ .xr-array-preview {\n",
       "  display: none;\n",
       "}\n",
       "\n",
       ".xr-array-in:checked ~ .xr-array-data,\n",
       ".xr-array-preview {\n",
       "  display: inline-block;\n",
       "}\n",
       "\n",
       ".xr-dim-list {\n",
       "  display: inline-block !important;\n",
       "  list-style: none;\n",
       "  padding: 0 !important;\n",
       "  margin: 0;\n",
       "}\n",
       "\n",
       ".xr-dim-list li {\n",
       "  display: inline-block;\n",
       "  padding: 0;\n",
       "  margin: 0;\n",
       "}\n",
       "\n",
       ".xr-dim-list:before {\n",
       "  content: \"(\";\n",
       "}\n",
       "\n",
       ".xr-dim-list:after {\n",
       "  content: \")\";\n",
       "}\n",
       "\n",
       ".xr-dim-list li:not(:last-child):after {\n",
       "  content: \",\";\n",
       "  padding-right: 5px;\n",
       "}\n",
       "\n",
       ".xr-has-index {\n",
       "  font-weight: bold;\n",
       "}\n",
       "\n",
       ".xr-var-list,\n",
       ".xr-var-item {\n",
       "  display: contents;\n",
       "}\n",
       "\n",
       ".xr-var-item > div,\n",
       ".xr-var-item label,\n",
       ".xr-var-item > .xr-var-name span {\n",
       "  background-color: var(--xr-background-color-row-even);\n",
       "  margin-bottom: 0;\n",
       "}\n",
       "\n",
       ".xr-var-item > .xr-var-name:hover span {\n",
       "  padding-right: 5px;\n",
       "}\n",
       "\n",
       ".xr-var-list > li:nth-child(odd) > div,\n",
       ".xr-var-list > li:nth-child(odd) > label,\n",
       ".xr-var-list > li:nth-child(odd) > .xr-var-name span {\n",
       "  background-color: var(--xr-background-color-row-odd);\n",
       "}\n",
       "\n",
       ".xr-var-name {\n",
       "  grid-column: 1;\n",
       "}\n",
       "\n",
       ".xr-var-dims {\n",
       "  grid-column: 2;\n",
       "}\n",
       "\n",
       ".xr-var-dtype {\n",
       "  grid-column: 3;\n",
       "  text-align: right;\n",
       "  color: var(--xr-font-color2);\n",
       "}\n",
       "\n",
       ".xr-var-preview {\n",
       "  grid-column: 4;\n",
       "}\n",
       "\n",
       ".xr-index-preview {\n",
       "  grid-column: 2 / 5;\n",
       "  color: var(--xr-font-color2);\n",
       "}\n",
       "\n",
       ".xr-var-name,\n",
       ".xr-var-dims,\n",
       ".xr-var-dtype,\n",
       ".xr-preview,\n",
       ".xr-attrs dt {\n",
       "  white-space: nowrap;\n",
       "  overflow: hidden;\n",
       "  text-overflow: ellipsis;\n",
       "  padding-right: 10px;\n",
       "}\n",
       "\n",
       ".xr-var-name:hover,\n",
       ".xr-var-dims:hover,\n",
       ".xr-var-dtype:hover,\n",
       ".xr-attrs dt:hover {\n",
       "  overflow: visible;\n",
       "  width: auto;\n",
       "  z-index: 1;\n",
       "}\n",
       "\n",
       ".xr-var-attrs,\n",
       ".xr-var-data,\n",
       ".xr-index-data {\n",
       "  display: none;\n",
       "  background-color: var(--xr-background-color) !important;\n",
       "  padding-bottom: 5px !important;\n",
       "}\n",
       "\n",
       ".xr-var-attrs-in:checked ~ .xr-var-attrs,\n",
       ".xr-var-data-in:checked ~ .xr-var-data,\n",
       ".xr-index-data-in:checked ~ .xr-index-data {\n",
       "  display: block;\n",
       "}\n",
       "\n",
       ".xr-var-data > table {\n",
       "  float: right;\n",
       "}\n",
       "\n",
       ".xr-var-name span,\n",
       ".xr-var-data,\n",
       ".xr-index-name div,\n",
       ".xr-index-data,\n",
       ".xr-attrs {\n",
       "  padding-left: 25px !important;\n",
       "}\n",
       "\n",
       ".xr-attrs,\n",
       ".xr-var-attrs,\n",
       ".xr-var-data,\n",
       ".xr-index-data {\n",
       "  grid-column: 1 / -1;\n",
       "}\n",
       "\n",
       "dl.xr-attrs {\n",
       "  padding: 0;\n",
       "  margin: 0;\n",
       "  display: grid;\n",
       "  grid-template-columns: 125px auto;\n",
       "}\n",
       "\n",
       ".xr-attrs dt,\n",
       ".xr-attrs dd {\n",
       "  padding: 0;\n",
       "  margin: 0;\n",
       "  float: left;\n",
       "  padding-right: 10px;\n",
       "  width: auto;\n",
       "}\n",
       "\n",
       ".xr-attrs dt {\n",
       "  font-weight: normal;\n",
       "  grid-column: 1;\n",
       "}\n",
       "\n",
       ".xr-attrs dt:hover span {\n",
       "  display: inline-block;\n",
       "  background: var(--xr-background-color);\n",
       "  padding-right: 10px;\n",
       "}\n",
       "\n",
       ".xr-attrs dd {\n",
       "  grid-column: 2;\n",
       "  white-space: pre-wrap;\n",
       "  word-break: break-all;\n",
       "}\n",
       "\n",
       ".xr-icon-database,\n",
       ".xr-icon-file-text2,\n",
       ".xr-no-icon {\n",
       "  display: inline-block;\n",
       "  vertical-align: middle;\n",
       "  width: 1em;\n",
       "  height: 1.5em !important;\n",
       "  stroke-width: 0;\n",
       "  stroke: currentColor;\n",
       "  fill: currentColor;\n",
       "}\n",
       "</style><pre class='xr-text-repr-fallback'>&lt;xarray.Dataset&gt; Size: 7MB\n",
       "Dimensions:         (nodeCount: 108071, coordDim: 2, elementCount: 108000,\n",
       "                     maxNodePElement: 4)\n",
       "Dimensions without coordinates: nodeCount, coordDim, elementCount,\n",
       "                                maxNodePElement\n",
       "Data variables:\n",
       "    nodeCoords      (nodeCount, coordDim) float64 2MB ...\n",
       "    elementConn     (elementCount, maxNodePElement) int32 2MB ...\n",
       "    numElementConn  (elementCount) int32 432kB ...\n",
       "    centerCoords    (elementCount, coordDim) float64 2MB ...\n",
       "    elementMask     (elementCount) int8 108kB ...\n",
       "    elementArea     (elementCount) float64 864kB ...\n",
       "Attributes:\n",
       "    gridType:       unstructured mesh\n",
       "    timeGenerated:  2024-01-25 15:01:40.899669\n",
       "    created_by:     ds0092\n",
       "    inputFile:      /g/data/ik11/inputs/access-om2/input_20201102/mom_1deg/oc...\n",
       "    history:        Created using commit 7b06e94dc79684c8e5b0d33a36d8046d42e9...</pre><div class='xr-wrap' style='display:none'><div class='xr-header'><div class='xr-obj-type'>xarray.Dataset</div></div><ul class='xr-sections'><li class='xr-section-item'><input id='section-97c18153-9f9c-4c3d-92da-74d80b7c0238' class='xr-section-summary-in' type='checkbox' disabled ><label for='section-97c18153-9f9c-4c3d-92da-74d80b7c0238' class='xr-section-summary'  title='Expand/collapse section'>Dimensions:</label><div class='xr-section-inline-details'><ul class='xr-dim-list'><li><span>nodeCount</span>: 108071</li><li><span>coordDim</span>: 2</li><li><span>elementCount</span>: 108000</li><li><span>maxNodePElement</span>: 4</li></ul></div><div class='xr-section-details'></div></li><li class='xr-section-item'><input id='section-4745a42f-e166-4b1c-b1bc-600f937d55c3' class='xr-section-summary-in' type='checkbox' disabled ><label for='section-4745a42f-e166-4b1c-b1bc-600f937d55c3' class='xr-section-summary'  title='Expand/collapse section'>Coordinates: <span>(0)</span></label><div class='xr-section-inline-details'></div><div class='xr-section-details'><ul class='xr-var-list'></ul></div></li><li class='xr-section-item'><input id='section-87cda6e4-f154-4b37-b9f7-8ade4fb6c011' class='xr-section-summary-in' type='checkbox'  checked><label for='section-87cda6e4-f154-4b37-b9f7-8ade4fb6c011' class='xr-section-summary' >Data variables: <span>(6)</span></label><div class='xr-section-inline-details'></div><div class='xr-section-details'><ul class='xr-var-list'><li class='xr-var-item'><div class='xr-var-name'><span>nodeCoords</span></div><div class='xr-var-dims'>(nodeCount, coordDim)</div><div class='xr-var-dtype'>float64</div><div class='xr-var-preview xr-preview'>...</div><input id='attrs-c475c1a3-a68a-42de-9d1a-d09ca2f3ae68' class='xr-var-attrs-in' type='checkbox' ><label for='attrs-c475c1a3-a68a-42de-9d1a-d09ca2f3ae68' title='Show/Hide attributes'><svg class='icon xr-icon-file-text2'><use xlink:href='#icon-file-text2'></use></svg></label><input id='data-3c056bd2-a287-49f8-b312-0d60a8980a43' class='xr-var-data-in' type='checkbox'><label for='data-3c056bd2-a287-49f8-b312-0d60a8980a43' title='Show/Hide data repr'><svg class='icon xr-icon-database'><use xlink:href='#icon-database'></use></svg></label><div class='xr-var-attrs'><dl class='xr-attrs'><dt><span>units :</span></dt><dd>degrees</dd></dl></div><div class='xr-var-data'><pre>[216142 values with dtype=float64]</pre></div></li><li class='xr-var-item'><div class='xr-var-name'><span>elementConn</span></div><div class='xr-var-dims'>(elementCount, maxNodePElement)</div><div class='xr-var-dtype'>int32</div><div class='xr-var-preview xr-preview'>...</div><input id='attrs-44924426-4821-45fe-aaa1-8a0e5b0923f8' class='xr-var-attrs-in' type='checkbox' ><label for='attrs-44924426-4821-45fe-aaa1-8a0e5b0923f8' title='Show/Hide attributes'><svg class='icon xr-icon-file-text2'><use xlink:href='#icon-file-text2'></use></svg></label><input id='data-575d3af2-9546-4183-8d3a-ef20d3bcedb0' class='xr-var-data-in' type='checkbox'><label for='data-575d3af2-9546-4183-8d3a-ef20d3bcedb0' title='Show/Hide data repr'><svg class='icon xr-icon-database'><use xlink:href='#icon-database'></use></svg></label><div class='xr-var-attrs'><dl class='xr-attrs'><dt><span>long_name :</span></dt><dd>Node indices that define the element connectivity</dd></dl></div><div class='xr-var-data'><pre>[432000 values with dtype=int32]</pre></div></li><li class='xr-var-item'><div class='xr-var-name'><span>numElementConn</span></div><div class='xr-var-dims'>(elementCount)</div><div class='xr-var-dtype'>int32</div><div class='xr-var-preview xr-preview'>...</div><input id='attrs-e1e9d5d2-c37c-4e03-a038-3ff927e46af3' class='xr-var-attrs-in' type='checkbox' ><label for='attrs-e1e9d5d2-c37c-4e03-a038-3ff927e46af3' title='Show/Hide attributes'><svg class='icon xr-icon-file-text2'><use xlink:href='#icon-file-text2'></use></svg></label><input id='data-67252c41-571f-48ec-a32b-739e82dac788' class='xr-var-data-in' type='checkbox'><label for='data-67252c41-571f-48ec-a32b-739e82dac788' title='Show/Hide data repr'><svg class='icon xr-icon-database'><use xlink:href='#icon-database'></use></svg></label><div class='xr-var-attrs'><dl class='xr-attrs'><dt><span>long_name :</span></dt><dd>Number of nodes per element</dd></dl></div><div class='xr-var-data'><pre>[108000 values with dtype=int32]</pre></div></li><li class='xr-var-item'><div class='xr-var-name'><span>centerCoords</span></div><div class='xr-var-dims'>(elementCount, coordDim)</div><div class='xr-var-dtype'>float64</div><div class='xr-var-preview xr-preview'>...</div><input id='attrs-d0788cb2-69ff-4854-86d9-8104a9676a9c' class='xr-var-attrs-in' type='checkbox' ><label for='attrs-d0788cb2-69ff-4854-86d9-8104a9676a9c' title='Show/Hide attributes'><svg class='icon xr-icon-file-text2'><use xlink:href='#icon-file-text2'></use></svg></label><input id='data-6759e029-8a80-4e05-9191-41e2814d6cee' class='xr-var-data-in' type='checkbox'><label for='data-6759e029-8a80-4e05-9191-41e2814d6cee' title='Show/Hide data repr'><svg class='icon xr-icon-database'><use xlink:href='#icon-database'></use></svg></label><div class='xr-var-attrs'><dl class='xr-attrs'><dt><span>units :</span></dt><dd>degrees</dd></dl></div><div class='xr-var-data'><pre>[216000 values with dtype=float64]</pre></div></li><li class='xr-var-item'><div class='xr-var-name'><span>elementMask</span></div><div class='xr-var-dims'>(elementCount)</div><div class='xr-var-dtype'>int8</div><div class='xr-var-preview xr-preview'>...</div><input id='attrs-49f86955-9bcd-423c-8e51-b0ad914213fd' class='xr-var-attrs-in' type='checkbox' disabled><label for='attrs-49f86955-9bcd-423c-8e51-b0ad914213fd' title='Show/Hide attributes'><svg class='icon xr-icon-file-text2'><use xlink:href='#icon-file-text2'></use></svg></label><input id='data-51174060-fa65-4d8c-a350-afb559a81e85' class='xr-var-data-in' type='checkbox'><label for='data-51174060-fa65-4d8c-a350-afb559a81e85' title='Show/Hide data repr'><svg class='icon xr-icon-database'><use xlink:href='#icon-database'></use></svg></label><div class='xr-var-attrs'><dl class='xr-attrs'></dl></div><div class='xr-var-data'><pre>[108000 values with dtype=int8]</pre></div></li><li class='xr-var-item'><div class='xr-var-name'><span>elementArea</span></div><div class='xr-var-dims'>(elementCount)</div><div class='xr-var-dtype'>float64</div><div class='xr-var-preview xr-preview'>...</div><input id='attrs-7fcd9ab7-e12a-4ca0-b3c7-0a2d152b5b40' class='xr-var-attrs-in' type='checkbox' disabled><label for='attrs-7fcd9ab7-e12a-4ca0-b3c7-0a2d152b5b40' title='Show/Hide attributes'><svg class='icon xr-icon-file-text2'><use xlink:href='#icon-file-text2'></use></svg></label><input id='data-ac4a360b-0ccd-4d4d-8a2c-9b834cf86073' class='xr-var-data-in' type='checkbox'><label for='data-ac4a360b-0ccd-4d4d-8a2c-9b834cf86073' title='Show/Hide data repr'><svg class='icon xr-icon-database'><use xlink:href='#icon-database'></use></svg></label><div class='xr-var-attrs'><dl class='xr-attrs'></dl></div><div class='xr-var-data'><pre>[108000 values with dtype=float64]</pre></div></li></ul></div></li><li class='xr-section-item'><input id='section-05b65a75-283b-4540-b049-de29c93c05b7' class='xr-section-summary-in' type='checkbox' disabled ><label for='section-05b65a75-283b-4540-b049-de29c93c05b7' class='xr-section-summary'  title='Expand/collapse section'>Indexes: <span>(0)</span></label><div class='xr-section-inline-details'></div><div class='xr-section-details'><ul class='xr-var-list'></ul></div></li><li class='xr-section-item'><input id='section-73e594f5-e744-4565-8b2f-c2cf780d9253' class='xr-section-summary-in' type='checkbox'  checked><label for='section-73e594f5-e744-4565-8b2f-c2cf780d9253' class='xr-section-summary' >Attributes: <span>(5)</span></label><div class='xr-section-inline-details'></div><div class='xr-section-details'><dl class='xr-attrs'><dt><span>gridType :</span></dt><dd>unstructured mesh</dd><dt><span>timeGenerated :</span></dt><dd>2024-01-25 15:01:40.899669</dd><dt><span>created_by :</span></dt><dd>ds0092</dd><dt><span>inputFile :</span></dt><dd>/g/data/ik11/inputs/access-om2/input_20201102/mom_1deg/ocean_hgrid.nc, /g/data/ik11/inputs/access-om2/input_20201102/mom_1deg/ocean_mask.nc</dd><dt><span>history :</span></dt><dd>Created using commit 7b06e94dc79684c8e5b0d33a36d8046d42e9bc95 of mesh_generation/generate_mesh.py in git@github.com:COSIMA/om3-scripts.git: python3 /g/data/tm70/ds0092/model/om3-scripts/mesh_generation/generate_mesh.py --grid-type=mom --grid-filename=/g/data/ik11/inputs/access-om2/input_20201102/mom_1deg/ocean_hgrid.nc --mesh-filename=/g/data/ik11/inputs/access-om3/0.x.0/1deg/share/access-om2-1deg-ESMFmesh.nc --mask-filename=/g/data/ik11/inputs/access-om2/input_20201102/mom_1deg/ocean_mask.nc --wrap-lons</dd></dl></div></li></ul></div></div>"
      ],
      "text/plain": [
       "<xarray.Dataset> Size: 7MB\n",
       "Dimensions:         (nodeCount: 108071, coordDim: 2, elementCount: 108000,\n",
       "                     maxNodePElement: 4)\n",
       "Dimensions without coordinates: nodeCount, coordDim, elementCount,\n",
       "                                maxNodePElement\n",
       "Data variables:\n",
       "    nodeCoords      (nodeCount, coordDim) float64 2MB ...\n",
       "    elementConn     (elementCount, maxNodePElement) int32 2MB ...\n",
       "    numElementConn  (elementCount) int32 432kB ...\n",
       "    centerCoords    (elementCount, coordDim) float64 2MB ...\n",
       "    elementMask     (elementCount) int8 108kB ...\n",
       "    elementArea     (elementCount) float64 864kB ...\n",
       "Attributes:\n",
       "    gridType:       unstructured mesh\n",
       "    timeGenerated:  2024-01-25 15:01:40.899669\n",
       "    created_by:     ds0092\n",
       "    inputFile:      /g/data/ik11/inputs/access-om2/input_20201102/mom_1deg/oc...\n",
       "    history:        Created using commit 7b06e94dc79684c8e5b0d33a36d8046d42e9..."
      ]
     },
     "execution_count": 18,
     "metadata": {},
     "output_type": "execute_result"
    }
   ],
   "source": [
    "mod_mesh_ds"
   ]
  },
  {
   "cell_type": "markdown",
   "id": "fc34c308-e76b-45ca-be6c-003d1b895737",
   "metadata": {},
   "source": [
    "Find index for all ocean cells:"
   ]
  },
  {
   "cell_type": "code",
   "execution_count": 19,
   "id": "2a4c87ce-ab41-4967-a283-f706d671d211",
   "metadata": {
    "execution": {
     "iopub.execute_input": "2025-01-08T22:36:05.283760Z",
     "iopub.status.busy": "2025-01-08T22:36:05.283503Z",
     "iopub.status.idle": "2025-01-08T22:36:05.295911Z",
     "shell.execute_reply": "2025-01-08T22:36:05.295077Z",
     "shell.execute_reply.started": "2025-01-08T22:36:05.283734Z"
    }
   },
   "outputs": [],
   "source": [
    "mask_i = mod_mesh_ds.elementCount.where(mod_mesh_ds.elementMask, drop=True).astype('int64')"
   ]
  },
  {
   "cell_type": "markdown",
   "id": "ced5c5ed-99ce-4e37-8d57-54722f4dab2f",
   "metadata": {},
   "source": [
    "Make a KDTree from the coordinates of each element which is an ocean cell."
   ]
  },
  {
   "cell_type": "code",
   "execution_count": 20,
   "id": "9d3742a7-4d56-4230-a9cf-6f897d07c45e",
   "metadata": {
    "execution": {
     "iopub.execute_input": "2025-01-08T22:36:05.296932Z",
     "iopub.status.busy": "2025-01-08T22:36:05.296718Z",
     "iopub.status.idle": "2025-01-08T22:36:07.313500Z",
     "shell.execute_reply": "2025-01-08T22:36:07.311929Z",
     "shell.execute_reply.started": "2025-01-08T22:36:05.296910Z"
    }
   },
   "outputs": [],
   "source": [
    "mask_tree = KDTree(\n",
    "    mod_mesh_ds.centerCoords.isel(elementCount = mask_i)\n",
    ")"
   ]
  },
  {
   "cell_type": "markdown",
   "id": "de278cad-8d3d-41a1-95ba-e7c03d399af9",
   "metadata": {},
   "source": [
    "Using the KDTree, look up the nearest ocean cell to every destination grid cell in our weights file.\n",
    "Note our weights are indexed from 1 (i.e. Fortran style) but xarray starts from 0 (i.e. python style), so subract one from our desitination grid cell indices."
   ]
  },
  {
   "cell_type": "code",
   "execution_count": 21,
   "id": "f6c96362-88a6-4ad0-b190-364198dd9e72",
   "metadata": {
    "execution": {
     "iopub.execute_input": "2025-01-08T22:36:07.315573Z",
     "iopub.status.busy": "2025-01-08T22:36:07.315335Z",
     "iopub.status.idle": "2025-01-08T22:36:07.371062Z",
     "shell.execute_reply": "2025-01-08T22:36:07.370234Z",
     "shell.execute_reply.started": "2025-01-08T22:36:07.315552Z"
    }
   },
   "outputs": [],
   "source": [
    "dd, ii = mask_tree.query(\n",
    "    mod_mesh_ds.centerCoords.isel(elementCount=(weights_ds.row-1)),\n",
    "    workers = -1\n",
    ")"
   ]
  },
  {
   "cell_type": "markdown",
   "id": "576fe2b1-a59c-4878-b9d2-61fd9d572814",
   "metadata": {},
   "source": [
    "ii is the index of ocean grid cells to be mapped to, however its the index of the list the KDTree is built on (i.e. relative to ```python mod_mesh_ds.centerCoords.isel(elementCount = mask_i)``` )"
   ]
  },
  {
   "cell_type": "code",
   "execution_count": 22,
   "id": "935233ff-efce-4b7f-a0c9-5ac4cf81f9ba",
   "metadata": {
    "execution": {
     "iopub.execute_input": "2025-01-08T22:36:07.371989Z",
     "iopub.status.busy": "2025-01-08T22:36:07.371812Z",
     "iopub.status.idle": "2025-01-08T22:36:07.376403Z",
     "shell.execute_reply": "2025-01-08T22:36:07.375640Z",
     "shell.execute_reply.started": "2025-01-08T22:36:07.371973Z"
    }
   },
   "outputs": [],
   "source": [
    "new_row = (mask_i[ii]+1)"
   ]
  },
  {
   "cell_type": "markdown",
   "id": "f6924ad4-46e4-4238-9810-8a7199955519",
   "metadata": {},
   "source": [
    "Get the mesh element areas:\n",
    "n.b. per CMEPS we are using the internally calculated areas, not the user provided ones. (These should be identical, based on the area of the surface of a sphere,  as long as the Earth's radius is consistent between CMEPS and MOM6)."
   ]
  },
  {
   "cell_type": "code",
   "execution_count": 23,
   "id": "58c49110-12e3-444f-b9f9-a02dea811b6c",
   "metadata": {
    "execution": {
     "iopub.execute_input": "2025-01-08T22:36:07.377350Z",
     "iopub.status.busy": "2025-01-08T22:36:07.377166Z",
     "iopub.status.idle": "2025-01-08T22:36:07.468562Z",
     "shell.execute_reply": "2025-01-08T22:36:07.467665Z",
     "shell.execute_reply.started": "2025-01-08T22:36:07.377333Z"
    }
   },
   "outputs": [],
   "source": [
    "med_out_fld.get_area()\n",
    "\n",
    "area = copy(med_out_fld.data)"
   ]
  },
  {
   "cell_type": "code",
   "execution_count": 24,
   "id": "2c1d7e9a-f0bd-4df8-afa6-ab62059caf9f",
   "metadata": {
    "execution": {
     "iopub.execute_input": "2025-01-08T22:36:07.469765Z",
     "iopub.status.busy": "2025-01-08T22:36:07.469551Z",
     "iopub.status.idle": "2025-01-08T22:36:07.474043Z",
     "shell.execute_reply": "2025-01-08T22:36:07.473214Z",
     "shell.execute_reply.started": "2025-01-08T22:36:07.469747Z"
    }
   },
   "outputs": [],
   "source": [
    "old_area = area[weights_ds.row-1]"
   ]
  },
  {
   "cell_type": "code",
   "execution_count": 25,
   "id": "f1408d24-3305-4006-9825-b1bbef2e2c24",
   "metadata": {
    "execution": {
     "iopub.execute_input": "2025-01-08T22:36:07.474835Z",
     "iopub.status.busy": "2025-01-08T22:36:07.474677Z",
     "iopub.status.idle": "2025-01-08T22:36:07.483651Z",
     "shell.execute_reply": "2025-01-08T22:36:07.482625Z",
     "shell.execute_reply.started": "2025-01-08T22:36:07.474820Z"
    }
   },
   "outputs": [],
   "source": [
    "new_area = area[new_row-1]"
   ]
  },
  {
   "cell_type": "code",
   "execution_count": 26,
   "id": "a0b0935b-b924-4b83-b3ac-f142071b1fa6",
   "metadata": {
    "execution": {
     "iopub.execute_input": "2025-01-08T22:36:07.484543Z",
     "iopub.status.busy": "2025-01-08T22:36:07.484390Z",
     "iopub.status.idle": "2025-01-08T22:36:07.491290Z",
     "shell.execute_reply": "2025-01-08T22:36:07.490444Z",
     "shell.execute_reply.started": "2025-01-08T22:36:07.484528Z"
    }
   },
   "outputs": [],
   "source": [
    "area_cor = old_area/new_area"
   ]
  },
  {
   "cell_type": "code",
   "execution_count": 27,
   "id": "52e65f84-def3-44aa-b1d7-b2a4c88802ec",
   "metadata": {
    "execution": {
     "iopub.execute_input": "2025-01-08T22:36:07.492296Z",
     "iopub.status.busy": "2025-01-08T22:36:07.492097Z",
     "iopub.status.idle": "2025-01-08T22:36:07.501011Z",
     "shell.execute_reply": "2025-01-08T22:36:07.499955Z",
     "shell.execute_reply.started": "2025-01-08T22:36:07.492276Z"
    }
   },
   "outputs": [],
   "source": [
    "weights_ds['row'] = xr.DataArray(\n",
    "    data=new_row,\n",
    "    dims='n_s'\n",
    ")"
   ]
  },
  {
   "cell_type": "code",
   "execution_count": 28,
   "id": "3b572a91-7562-4190-a414-70a0168c43c6",
   "metadata": {
    "execution": {
     "iopub.execute_input": "2025-01-08T22:36:07.502184Z",
     "iopub.status.busy": "2025-01-08T22:36:07.501925Z",
     "iopub.status.idle": "2025-01-08T22:36:07.514620Z",
     "shell.execute_reply": "2025-01-08T22:36:07.513594Z",
     "shell.execute_reply.started": "2025-01-08T22:36:07.502158Z"
    }
   },
   "outputs": [],
   "source": [
    "weights_ds['S'] = weights_ds.S*area_cor"
   ]
  },
  {
   "cell_type": "code",
   "execution_count": 29,
   "id": "e55cc2a7-b62d-4bc1-9684-2af0250c4ba4",
   "metadata": {
    "execution": {
     "iopub.execute_input": "2025-01-08T22:36:07.516804Z",
     "iopub.status.busy": "2025-01-08T22:36:07.516056Z",
     "iopub.status.idle": "2025-01-08T22:36:07.528746Z",
     "shell.execute_reply": "2025-01-08T22:36:07.527740Z",
     "shell.execute_reply.started": "2025-01-08T22:36:07.516761Z"
    }
   },
   "outputs": [
    {
     "data": {
      "text/html": [
       "<div><svg style=\"position: absolute; width: 0; height: 0; overflow: hidden\">\n",
       "<defs>\n",
       "<symbol id=\"icon-database\" viewBox=\"0 0 32 32\">\n",
       "<path d=\"M16 0c-8.837 0-16 2.239-16 5v4c0 2.761 7.163 5 16 5s16-2.239 16-5v-4c0-2.761-7.163-5-16-5z\"></path>\n",
       "<path d=\"M16 17c-8.837 0-16-2.239-16-5v6c0 2.761 7.163 5 16 5s16-2.239 16-5v-6c0 2.761-7.163 5-16 5z\"></path>\n",
       "<path d=\"M16 26c-8.837 0-16-2.239-16-5v6c0 2.761 7.163 5 16 5s16-2.239 16-5v-6c0 2.761-7.163 5-16 5z\"></path>\n",
       "</symbol>\n",
       "<symbol id=\"icon-file-text2\" viewBox=\"0 0 32 32\">\n",
       "<path d=\"M28.681 7.159c-0.694-0.947-1.662-2.053-2.724-3.116s-2.169-2.030-3.116-2.724c-1.612-1.182-2.393-1.319-2.841-1.319h-15.5c-1.378 0-2.5 1.121-2.5 2.5v27c0 1.378 1.122 2.5 2.5 2.5h23c1.378 0 2.5-1.122 2.5-2.5v-19.5c0-0.448-0.137-1.23-1.319-2.841zM24.543 5.457c0.959 0.959 1.712 1.825 2.268 2.543h-4.811v-4.811c0.718 0.556 1.584 1.309 2.543 2.268zM28 29.5c0 0.271-0.229 0.5-0.5 0.5h-23c-0.271 0-0.5-0.229-0.5-0.5v-27c0-0.271 0.229-0.5 0.5-0.5 0 0 15.499-0 15.5 0v7c0 0.552 0.448 1 1 1h7v19.5z\"></path>\n",
       "<path d=\"M23 26h-14c-0.552 0-1-0.448-1-1s0.448-1 1-1h14c0.552 0 1 0.448 1 1s-0.448 1-1 1z\"></path>\n",
       "<path d=\"M23 22h-14c-0.552 0-1-0.448-1-1s0.448-1 1-1h14c0.552 0 1 0.448 1 1s-0.448 1-1 1z\"></path>\n",
       "<path d=\"M23 18h-14c-0.552 0-1-0.448-1-1s0.448-1 1-1h14c0.552 0 1 0.448 1 1s-0.448 1-1 1z\"></path>\n",
       "</symbol>\n",
       "</defs>\n",
       "</svg>\n",
       "<style>/* CSS stylesheet for displaying xarray objects in jupyterlab.\n",
       " *\n",
       " */\n",
       "\n",
       ":root {\n",
       "  --xr-font-color0: var(--jp-content-font-color0, rgba(0, 0, 0, 1));\n",
       "  --xr-font-color2: var(--jp-content-font-color2, rgba(0, 0, 0, 0.54));\n",
       "  --xr-font-color3: var(--jp-content-font-color3, rgba(0, 0, 0, 0.38));\n",
       "  --xr-border-color: var(--jp-border-color2, #e0e0e0);\n",
       "  --xr-disabled-color: var(--jp-layout-color3, #bdbdbd);\n",
       "  --xr-background-color: var(--jp-layout-color0, white);\n",
       "  --xr-background-color-row-even: var(--jp-layout-color1, white);\n",
       "  --xr-background-color-row-odd: var(--jp-layout-color2, #eeeeee);\n",
       "}\n",
       "\n",
       "html[theme=\"dark\"],\n",
       "html[data-theme=\"dark\"],\n",
       "body[data-theme=\"dark\"],\n",
       "body.vscode-dark {\n",
       "  --xr-font-color0: rgba(255, 255, 255, 1);\n",
       "  --xr-font-color2: rgba(255, 255, 255, 0.54);\n",
       "  --xr-font-color3: rgba(255, 255, 255, 0.38);\n",
       "  --xr-border-color: #1f1f1f;\n",
       "  --xr-disabled-color: #515151;\n",
       "  --xr-background-color: #111111;\n",
       "  --xr-background-color-row-even: #111111;\n",
       "  --xr-background-color-row-odd: #313131;\n",
       "}\n",
       "\n",
       ".xr-wrap {\n",
       "  display: block !important;\n",
       "  min-width: 300px;\n",
       "  max-width: 700px;\n",
       "}\n",
       "\n",
       ".xr-text-repr-fallback {\n",
       "  /* fallback to plain text repr when CSS is not injected (untrusted notebook) */\n",
       "  display: none;\n",
       "}\n",
       "\n",
       ".xr-header {\n",
       "  padding-top: 6px;\n",
       "  padding-bottom: 6px;\n",
       "  margin-bottom: 4px;\n",
       "  border-bottom: solid 1px var(--xr-border-color);\n",
       "}\n",
       "\n",
       ".xr-header > div,\n",
       ".xr-header > ul {\n",
       "  display: inline;\n",
       "  margin-top: 0;\n",
       "  margin-bottom: 0;\n",
       "}\n",
       "\n",
       ".xr-obj-type,\n",
       ".xr-array-name {\n",
       "  margin-left: 2px;\n",
       "  margin-right: 10px;\n",
       "}\n",
       "\n",
       ".xr-obj-type {\n",
       "  color: var(--xr-font-color2);\n",
       "}\n",
       "\n",
       ".xr-sections {\n",
       "  padding-left: 0 !important;\n",
       "  display: grid;\n",
       "  grid-template-columns: 150px auto auto 1fr 0 20px 0 20px;\n",
       "}\n",
       "\n",
       ".xr-section-item {\n",
       "  display: contents;\n",
       "}\n",
       "\n",
       ".xr-section-item input {\n",
       "  display: inline-block;\n",
       "  opacity: 0;\n",
       "  height: 0;\n",
       "}\n",
       "\n",
       ".xr-section-item input + label {\n",
       "  color: var(--xr-disabled-color);\n",
       "}\n",
       "\n",
       ".xr-section-item input:enabled + label {\n",
       "  cursor: pointer;\n",
       "  color: var(--xr-font-color2);\n",
       "}\n",
       "\n",
       ".xr-section-item input:focus + label {\n",
       "  border: 2px solid var(--xr-font-color0);\n",
       "}\n",
       "\n",
       ".xr-section-item input:enabled + label:hover {\n",
       "  color: var(--xr-font-color0);\n",
       "}\n",
       "\n",
       ".xr-section-summary {\n",
       "  grid-column: 1;\n",
       "  color: var(--xr-font-color2);\n",
       "  font-weight: 500;\n",
       "}\n",
       "\n",
       ".xr-section-summary > span {\n",
       "  display: inline-block;\n",
       "  padding-left: 0.5em;\n",
       "}\n",
       "\n",
       ".xr-section-summary-in:disabled + label {\n",
       "  color: var(--xr-font-color2);\n",
       "}\n",
       "\n",
       ".xr-section-summary-in + label:before {\n",
       "  display: inline-block;\n",
       "  content: \"►\";\n",
       "  font-size: 11px;\n",
       "  width: 15px;\n",
       "  text-align: center;\n",
       "}\n",
       "\n",
       ".xr-section-summary-in:disabled + label:before {\n",
       "  color: var(--xr-disabled-color);\n",
       "}\n",
       "\n",
       ".xr-section-summary-in:checked + label:before {\n",
       "  content: \"▼\";\n",
       "}\n",
       "\n",
       ".xr-section-summary-in:checked + label > span {\n",
       "  display: none;\n",
       "}\n",
       "\n",
       ".xr-section-summary,\n",
       ".xr-section-inline-details {\n",
       "  padding-top: 4px;\n",
       "  padding-bottom: 4px;\n",
       "}\n",
       "\n",
       ".xr-section-inline-details {\n",
       "  grid-column: 2 / -1;\n",
       "}\n",
       "\n",
       ".xr-section-details {\n",
       "  display: none;\n",
       "  grid-column: 1 / -1;\n",
       "  margin-bottom: 5px;\n",
       "}\n",
       "\n",
       ".xr-section-summary-in:checked ~ .xr-section-details {\n",
       "  display: contents;\n",
       "}\n",
       "\n",
       ".xr-array-wrap {\n",
       "  grid-column: 1 / -1;\n",
       "  display: grid;\n",
       "  grid-template-columns: 20px auto;\n",
       "}\n",
       "\n",
       ".xr-array-wrap > label {\n",
       "  grid-column: 1;\n",
       "  vertical-align: top;\n",
       "}\n",
       "\n",
       ".xr-preview {\n",
       "  color: var(--xr-font-color3);\n",
       "}\n",
       "\n",
       ".xr-array-preview,\n",
       ".xr-array-data {\n",
       "  padding: 0 5px !important;\n",
       "  grid-column: 2;\n",
       "}\n",
       "\n",
       ".xr-array-data,\n",
       ".xr-array-in:checked ~ .xr-array-preview {\n",
       "  display: none;\n",
       "}\n",
       "\n",
       ".xr-array-in:checked ~ .xr-array-data,\n",
       ".xr-array-preview {\n",
       "  display: inline-block;\n",
       "}\n",
       "\n",
       ".xr-dim-list {\n",
       "  display: inline-block !important;\n",
       "  list-style: none;\n",
       "  padding: 0 !important;\n",
       "  margin: 0;\n",
       "}\n",
       "\n",
       ".xr-dim-list li {\n",
       "  display: inline-block;\n",
       "  padding: 0;\n",
       "  margin: 0;\n",
       "}\n",
       "\n",
       ".xr-dim-list:before {\n",
       "  content: \"(\";\n",
       "}\n",
       "\n",
       ".xr-dim-list:after {\n",
       "  content: \")\";\n",
       "}\n",
       "\n",
       ".xr-dim-list li:not(:last-child):after {\n",
       "  content: \",\";\n",
       "  padding-right: 5px;\n",
       "}\n",
       "\n",
       ".xr-has-index {\n",
       "  font-weight: bold;\n",
       "}\n",
       "\n",
       ".xr-var-list,\n",
       ".xr-var-item {\n",
       "  display: contents;\n",
       "}\n",
       "\n",
       ".xr-var-item > div,\n",
       ".xr-var-item label,\n",
       ".xr-var-item > .xr-var-name span {\n",
       "  background-color: var(--xr-background-color-row-even);\n",
       "  margin-bottom: 0;\n",
       "}\n",
       "\n",
       ".xr-var-item > .xr-var-name:hover span {\n",
       "  padding-right: 5px;\n",
       "}\n",
       "\n",
       ".xr-var-list > li:nth-child(odd) > div,\n",
       ".xr-var-list > li:nth-child(odd) > label,\n",
       ".xr-var-list > li:nth-child(odd) > .xr-var-name span {\n",
       "  background-color: var(--xr-background-color-row-odd);\n",
       "}\n",
       "\n",
       ".xr-var-name {\n",
       "  grid-column: 1;\n",
       "}\n",
       "\n",
       ".xr-var-dims {\n",
       "  grid-column: 2;\n",
       "}\n",
       "\n",
       ".xr-var-dtype {\n",
       "  grid-column: 3;\n",
       "  text-align: right;\n",
       "  color: var(--xr-font-color2);\n",
       "}\n",
       "\n",
       ".xr-var-preview {\n",
       "  grid-column: 4;\n",
       "}\n",
       "\n",
       ".xr-index-preview {\n",
       "  grid-column: 2 / 5;\n",
       "  color: var(--xr-font-color2);\n",
       "}\n",
       "\n",
       ".xr-var-name,\n",
       ".xr-var-dims,\n",
       ".xr-var-dtype,\n",
       ".xr-preview,\n",
       ".xr-attrs dt {\n",
       "  white-space: nowrap;\n",
       "  overflow: hidden;\n",
       "  text-overflow: ellipsis;\n",
       "  padding-right: 10px;\n",
       "}\n",
       "\n",
       ".xr-var-name:hover,\n",
       ".xr-var-dims:hover,\n",
       ".xr-var-dtype:hover,\n",
       ".xr-attrs dt:hover {\n",
       "  overflow: visible;\n",
       "  width: auto;\n",
       "  z-index: 1;\n",
       "}\n",
       "\n",
       ".xr-var-attrs,\n",
       ".xr-var-data,\n",
       ".xr-index-data {\n",
       "  display: none;\n",
       "  background-color: var(--xr-background-color) !important;\n",
       "  padding-bottom: 5px !important;\n",
       "}\n",
       "\n",
       ".xr-var-attrs-in:checked ~ .xr-var-attrs,\n",
       ".xr-var-data-in:checked ~ .xr-var-data,\n",
       ".xr-index-data-in:checked ~ .xr-index-data {\n",
       "  display: block;\n",
       "}\n",
       "\n",
       ".xr-var-data > table {\n",
       "  float: right;\n",
       "}\n",
       "\n",
       ".xr-var-name span,\n",
       ".xr-var-data,\n",
       ".xr-index-name div,\n",
       ".xr-index-data,\n",
       ".xr-attrs {\n",
       "  padding-left: 25px !important;\n",
       "}\n",
       "\n",
       ".xr-attrs,\n",
       ".xr-var-attrs,\n",
       ".xr-var-data,\n",
       ".xr-index-data {\n",
       "  grid-column: 1 / -1;\n",
       "}\n",
       "\n",
       "dl.xr-attrs {\n",
       "  padding: 0;\n",
       "  margin: 0;\n",
       "  display: grid;\n",
       "  grid-template-columns: 125px auto;\n",
       "}\n",
       "\n",
       ".xr-attrs dt,\n",
       ".xr-attrs dd {\n",
       "  padding: 0;\n",
       "  margin: 0;\n",
       "  float: left;\n",
       "  padding-right: 10px;\n",
       "  width: auto;\n",
       "}\n",
       "\n",
       ".xr-attrs dt {\n",
       "  font-weight: normal;\n",
       "  grid-column: 1;\n",
       "}\n",
       "\n",
       ".xr-attrs dt:hover span {\n",
       "  display: inline-block;\n",
       "  background: var(--xr-background-color);\n",
       "  padding-right: 10px;\n",
       "}\n",
       "\n",
       ".xr-attrs dd {\n",
       "  grid-column: 2;\n",
       "  white-space: pre-wrap;\n",
       "  word-break: break-all;\n",
       "}\n",
       "\n",
       ".xr-icon-database,\n",
       ".xr-icon-file-text2,\n",
       ".xr-no-icon {\n",
       "  display: inline-block;\n",
       "  vertical-align: middle;\n",
       "  width: 1em;\n",
       "  height: 1.5em !important;\n",
       "  stroke-width: 0;\n",
       "  stroke: currentColor;\n",
       "  fill: currentColor;\n",
       "}\n",
       "</style><pre class='xr-text-repr-fallback'>&lt;xarray.DataArray &#x27;row&#x27; (n_s: 108000)&gt; Size: 864kB\n",
       "array([ 10078,  10078,  10078, ..., 107980, 107980, 107980])\n",
       "Dimensions without coordinates: n_s</pre><div class='xr-wrap' style='display:none'><div class='xr-header'><div class='xr-obj-type'>xarray.DataArray</div><div class='xr-array-name'>'row'</div><ul class='xr-dim-list'><li><span>n_s</span>: 108000</li></ul></div><ul class='xr-sections'><li class='xr-section-item'><div class='xr-array-wrap'><input id='section-bf94c4f2-3196-4b05-b90c-f99100188ee8' class='xr-array-in' type='checkbox' checked><label for='section-bf94c4f2-3196-4b05-b90c-f99100188ee8' title='Show/hide data repr'><svg class='icon xr-icon-database'><use xlink:href='#icon-database'></use></svg></label><div class='xr-array-preview xr-preview'><span>10078 10078 10078 10078 10801 ... 107980 107980 107980 107980 107980</span></div><div class='xr-array-data'><pre>array([ 10078,  10078,  10078, ..., 107980, 107980, 107980])</pre></div></div></li><li class='xr-section-item'><input id='section-2316152a-7cac-4b1d-8bf1-58132e64c882' class='xr-section-summary-in' type='checkbox' disabled ><label for='section-2316152a-7cac-4b1d-8bf1-58132e64c882' class='xr-section-summary'  title='Expand/collapse section'>Coordinates: <span>(0)</span></label><div class='xr-section-inline-details'></div><div class='xr-section-details'><ul class='xr-var-list'></ul></div></li><li class='xr-section-item'><input id='section-621db55f-2965-4964-b1df-cf043f2ffe96' class='xr-section-summary-in' type='checkbox' disabled ><label for='section-621db55f-2965-4964-b1df-cf043f2ffe96' class='xr-section-summary'  title='Expand/collapse section'>Indexes: <span>(0)</span></label><div class='xr-section-inline-details'></div><div class='xr-section-details'><ul class='xr-var-list'></ul></div></li><li class='xr-section-item'><input id='section-09709026-fe93-49ed-b27e-09164d8a2fc1' class='xr-section-summary-in' type='checkbox' disabled ><label for='section-09709026-fe93-49ed-b27e-09164d8a2fc1' class='xr-section-summary'  title='Expand/collapse section'>Attributes: <span>(0)</span></label><div class='xr-section-inline-details'></div><div class='xr-section-details'><dl class='xr-attrs'></dl></div></li></ul></div></div>"
      ],
      "text/plain": [
       "<xarray.DataArray 'row' (n_s: 108000)> Size: 864kB\n",
       "array([ 10078,  10078,  10078, ..., 107980, 107980, 107980])\n",
       "Dimensions without coordinates: n_s"
      ]
     },
     "execution_count": 29,
     "metadata": {},
     "output_type": "execute_result"
    }
   ],
   "source": [
    "weights_ds.row"
   ]
  },
  {
   "cell_type": "code",
   "execution_count": 30,
   "id": "ceb3dc6f-a4ce-410e-afd0-0846e18821b1",
   "metadata": {
    "execution": {
     "iopub.execute_input": "2025-01-08T22:36:07.530208Z",
     "iopub.status.busy": "2025-01-08T22:36:07.529890Z",
     "iopub.status.idle": "2025-01-08T22:36:07.539326Z",
     "shell.execute_reply": "2025-01-08T22:36:07.538377Z",
     "shell.execute_reply.started": "2025-01-08T22:36:07.530176Z"
    }
   },
   "outputs": [
    {
     "data": {
      "text/html": [
       "<div><svg style=\"position: absolute; width: 0; height: 0; overflow: hidden\">\n",
       "<defs>\n",
       "<symbol id=\"icon-database\" viewBox=\"0 0 32 32\">\n",
       "<path d=\"M16 0c-8.837 0-16 2.239-16 5v4c0 2.761 7.163 5 16 5s16-2.239 16-5v-4c0-2.761-7.163-5-16-5z\"></path>\n",
       "<path d=\"M16 17c-8.837 0-16-2.239-16-5v6c0 2.761 7.163 5 16 5s16-2.239 16-5v-6c0 2.761-7.163 5-16 5z\"></path>\n",
       "<path d=\"M16 26c-8.837 0-16-2.239-16-5v6c0 2.761 7.163 5 16 5s16-2.239 16-5v-6c0 2.761-7.163 5-16 5z\"></path>\n",
       "</symbol>\n",
       "<symbol id=\"icon-file-text2\" viewBox=\"0 0 32 32\">\n",
       "<path d=\"M28.681 7.159c-0.694-0.947-1.662-2.053-2.724-3.116s-2.169-2.030-3.116-2.724c-1.612-1.182-2.393-1.319-2.841-1.319h-15.5c-1.378 0-2.5 1.121-2.5 2.5v27c0 1.378 1.122 2.5 2.5 2.5h23c1.378 0 2.5-1.122 2.5-2.5v-19.5c0-0.448-0.137-1.23-1.319-2.841zM24.543 5.457c0.959 0.959 1.712 1.825 2.268 2.543h-4.811v-4.811c0.718 0.556 1.584 1.309 2.543 2.268zM28 29.5c0 0.271-0.229 0.5-0.5 0.5h-23c-0.271 0-0.5-0.229-0.5-0.5v-27c0-0.271 0.229-0.5 0.5-0.5 0 0 15.499-0 15.5 0v7c0 0.552 0.448 1 1 1h7v19.5z\"></path>\n",
       "<path d=\"M23 26h-14c-0.552 0-1-0.448-1-1s0.448-1 1-1h14c0.552 0 1 0.448 1 1s-0.448 1-1 1z\"></path>\n",
       "<path d=\"M23 22h-14c-0.552 0-1-0.448-1-1s0.448-1 1-1h14c0.552 0 1 0.448 1 1s-0.448 1-1 1z\"></path>\n",
       "<path d=\"M23 18h-14c-0.552 0-1-0.448-1-1s0.448-1 1-1h14c0.552 0 1 0.448 1 1s-0.448 1-1 1z\"></path>\n",
       "</symbol>\n",
       "</defs>\n",
       "</svg>\n",
       "<style>/* CSS stylesheet for displaying xarray objects in jupyterlab.\n",
       " *\n",
       " */\n",
       "\n",
       ":root {\n",
       "  --xr-font-color0: var(--jp-content-font-color0, rgba(0, 0, 0, 1));\n",
       "  --xr-font-color2: var(--jp-content-font-color2, rgba(0, 0, 0, 0.54));\n",
       "  --xr-font-color3: var(--jp-content-font-color3, rgba(0, 0, 0, 0.38));\n",
       "  --xr-border-color: var(--jp-border-color2, #e0e0e0);\n",
       "  --xr-disabled-color: var(--jp-layout-color3, #bdbdbd);\n",
       "  --xr-background-color: var(--jp-layout-color0, white);\n",
       "  --xr-background-color-row-even: var(--jp-layout-color1, white);\n",
       "  --xr-background-color-row-odd: var(--jp-layout-color2, #eeeeee);\n",
       "}\n",
       "\n",
       "html[theme=\"dark\"],\n",
       "html[data-theme=\"dark\"],\n",
       "body[data-theme=\"dark\"],\n",
       "body.vscode-dark {\n",
       "  --xr-font-color0: rgba(255, 255, 255, 1);\n",
       "  --xr-font-color2: rgba(255, 255, 255, 0.54);\n",
       "  --xr-font-color3: rgba(255, 255, 255, 0.38);\n",
       "  --xr-border-color: #1f1f1f;\n",
       "  --xr-disabled-color: #515151;\n",
       "  --xr-background-color: #111111;\n",
       "  --xr-background-color-row-even: #111111;\n",
       "  --xr-background-color-row-odd: #313131;\n",
       "}\n",
       "\n",
       ".xr-wrap {\n",
       "  display: block !important;\n",
       "  min-width: 300px;\n",
       "  max-width: 700px;\n",
       "}\n",
       "\n",
       ".xr-text-repr-fallback {\n",
       "  /* fallback to plain text repr when CSS is not injected (untrusted notebook) */\n",
       "  display: none;\n",
       "}\n",
       "\n",
       ".xr-header {\n",
       "  padding-top: 6px;\n",
       "  padding-bottom: 6px;\n",
       "  margin-bottom: 4px;\n",
       "  border-bottom: solid 1px var(--xr-border-color);\n",
       "}\n",
       "\n",
       ".xr-header > div,\n",
       ".xr-header > ul {\n",
       "  display: inline;\n",
       "  margin-top: 0;\n",
       "  margin-bottom: 0;\n",
       "}\n",
       "\n",
       ".xr-obj-type,\n",
       ".xr-array-name {\n",
       "  margin-left: 2px;\n",
       "  margin-right: 10px;\n",
       "}\n",
       "\n",
       ".xr-obj-type {\n",
       "  color: var(--xr-font-color2);\n",
       "}\n",
       "\n",
       ".xr-sections {\n",
       "  padding-left: 0 !important;\n",
       "  display: grid;\n",
       "  grid-template-columns: 150px auto auto 1fr 0 20px 0 20px;\n",
       "}\n",
       "\n",
       ".xr-section-item {\n",
       "  display: contents;\n",
       "}\n",
       "\n",
       ".xr-section-item input {\n",
       "  display: inline-block;\n",
       "  opacity: 0;\n",
       "  height: 0;\n",
       "}\n",
       "\n",
       ".xr-section-item input + label {\n",
       "  color: var(--xr-disabled-color);\n",
       "}\n",
       "\n",
       ".xr-section-item input:enabled + label {\n",
       "  cursor: pointer;\n",
       "  color: var(--xr-font-color2);\n",
       "}\n",
       "\n",
       ".xr-section-item input:focus + label {\n",
       "  border: 2px solid var(--xr-font-color0);\n",
       "}\n",
       "\n",
       ".xr-section-item input:enabled + label:hover {\n",
       "  color: var(--xr-font-color0);\n",
       "}\n",
       "\n",
       ".xr-section-summary {\n",
       "  grid-column: 1;\n",
       "  color: var(--xr-font-color2);\n",
       "  font-weight: 500;\n",
       "}\n",
       "\n",
       ".xr-section-summary > span {\n",
       "  display: inline-block;\n",
       "  padding-left: 0.5em;\n",
       "}\n",
       "\n",
       ".xr-section-summary-in:disabled + label {\n",
       "  color: var(--xr-font-color2);\n",
       "}\n",
       "\n",
       ".xr-section-summary-in + label:before {\n",
       "  display: inline-block;\n",
       "  content: \"►\";\n",
       "  font-size: 11px;\n",
       "  width: 15px;\n",
       "  text-align: center;\n",
       "}\n",
       "\n",
       ".xr-section-summary-in:disabled + label:before {\n",
       "  color: var(--xr-disabled-color);\n",
       "}\n",
       "\n",
       ".xr-section-summary-in:checked + label:before {\n",
       "  content: \"▼\";\n",
       "}\n",
       "\n",
       ".xr-section-summary-in:checked + label > span {\n",
       "  display: none;\n",
       "}\n",
       "\n",
       ".xr-section-summary,\n",
       ".xr-section-inline-details {\n",
       "  padding-top: 4px;\n",
       "  padding-bottom: 4px;\n",
       "}\n",
       "\n",
       ".xr-section-inline-details {\n",
       "  grid-column: 2 / -1;\n",
       "}\n",
       "\n",
       ".xr-section-details {\n",
       "  display: none;\n",
       "  grid-column: 1 / -1;\n",
       "  margin-bottom: 5px;\n",
       "}\n",
       "\n",
       ".xr-section-summary-in:checked ~ .xr-section-details {\n",
       "  display: contents;\n",
       "}\n",
       "\n",
       ".xr-array-wrap {\n",
       "  grid-column: 1 / -1;\n",
       "  display: grid;\n",
       "  grid-template-columns: 20px auto;\n",
       "}\n",
       "\n",
       ".xr-array-wrap > label {\n",
       "  grid-column: 1;\n",
       "  vertical-align: top;\n",
       "}\n",
       "\n",
       ".xr-preview {\n",
       "  color: var(--xr-font-color3);\n",
       "}\n",
       "\n",
       ".xr-array-preview,\n",
       ".xr-array-data {\n",
       "  padding: 0 5px !important;\n",
       "  grid-column: 2;\n",
       "}\n",
       "\n",
       ".xr-array-data,\n",
       ".xr-array-in:checked ~ .xr-array-preview {\n",
       "  display: none;\n",
       "}\n",
       "\n",
       ".xr-array-in:checked ~ .xr-array-data,\n",
       ".xr-array-preview {\n",
       "  display: inline-block;\n",
       "}\n",
       "\n",
       ".xr-dim-list {\n",
       "  display: inline-block !important;\n",
       "  list-style: none;\n",
       "  padding: 0 !important;\n",
       "  margin: 0;\n",
       "}\n",
       "\n",
       ".xr-dim-list li {\n",
       "  display: inline-block;\n",
       "  padding: 0;\n",
       "  margin: 0;\n",
       "}\n",
       "\n",
       ".xr-dim-list:before {\n",
       "  content: \"(\";\n",
       "}\n",
       "\n",
       ".xr-dim-list:after {\n",
       "  content: \")\";\n",
       "}\n",
       "\n",
       ".xr-dim-list li:not(:last-child):after {\n",
       "  content: \",\";\n",
       "  padding-right: 5px;\n",
       "}\n",
       "\n",
       ".xr-has-index {\n",
       "  font-weight: bold;\n",
       "}\n",
       "\n",
       ".xr-var-list,\n",
       ".xr-var-item {\n",
       "  display: contents;\n",
       "}\n",
       "\n",
       ".xr-var-item > div,\n",
       ".xr-var-item label,\n",
       ".xr-var-item > .xr-var-name span {\n",
       "  background-color: var(--xr-background-color-row-even);\n",
       "  margin-bottom: 0;\n",
       "}\n",
       "\n",
       ".xr-var-item > .xr-var-name:hover span {\n",
       "  padding-right: 5px;\n",
       "}\n",
       "\n",
       ".xr-var-list > li:nth-child(odd) > div,\n",
       ".xr-var-list > li:nth-child(odd) > label,\n",
       ".xr-var-list > li:nth-child(odd) > .xr-var-name span {\n",
       "  background-color: var(--xr-background-color-row-odd);\n",
       "}\n",
       "\n",
       ".xr-var-name {\n",
       "  grid-column: 1;\n",
       "}\n",
       "\n",
       ".xr-var-dims {\n",
       "  grid-column: 2;\n",
       "}\n",
       "\n",
       ".xr-var-dtype {\n",
       "  grid-column: 3;\n",
       "  text-align: right;\n",
       "  color: var(--xr-font-color2);\n",
       "}\n",
       "\n",
       ".xr-var-preview {\n",
       "  grid-column: 4;\n",
       "}\n",
       "\n",
       ".xr-index-preview {\n",
       "  grid-column: 2 / 5;\n",
       "  color: var(--xr-font-color2);\n",
       "}\n",
       "\n",
       ".xr-var-name,\n",
       ".xr-var-dims,\n",
       ".xr-var-dtype,\n",
       ".xr-preview,\n",
       ".xr-attrs dt {\n",
       "  white-space: nowrap;\n",
       "  overflow: hidden;\n",
       "  text-overflow: ellipsis;\n",
       "  padding-right: 10px;\n",
       "}\n",
       "\n",
       ".xr-var-name:hover,\n",
       ".xr-var-dims:hover,\n",
       ".xr-var-dtype:hover,\n",
       ".xr-attrs dt:hover {\n",
       "  overflow: visible;\n",
       "  width: auto;\n",
       "  z-index: 1;\n",
       "}\n",
       "\n",
       ".xr-var-attrs,\n",
       ".xr-var-data,\n",
       ".xr-index-data {\n",
       "  display: none;\n",
       "  background-color: var(--xr-background-color) !important;\n",
       "  padding-bottom: 5px !important;\n",
       "}\n",
       "\n",
       ".xr-var-attrs-in:checked ~ .xr-var-attrs,\n",
       ".xr-var-data-in:checked ~ .xr-var-data,\n",
       ".xr-index-data-in:checked ~ .xr-index-data {\n",
       "  display: block;\n",
       "}\n",
       "\n",
       ".xr-var-data > table {\n",
       "  float: right;\n",
       "}\n",
       "\n",
       ".xr-var-name span,\n",
       ".xr-var-data,\n",
       ".xr-index-name div,\n",
       ".xr-index-data,\n",
       ".xr-attrs {\n",
       "  padding-left: 25px !important;\n",
       "}\n",
       "\n",
       ".xr-attrs,\n",
       ".xr-var-attrs,\n",
       ".xr-var-data,\n",
       ".xr-index-data {\n",
       "  grid-column: 1 / -1;\n",
       "}\n",
       "\n",
       "dl.xr-attrs {\n",
       "  padding: 0;\n",
       "  margin: 0;\n",
       "  display: grid;\n",
       "  grid-template-columns: 125px auto;\n",
       "}\n",
       "\n",
       ".xr-attrs dt,\n",
       ".xr-attrs dd {\n",
       "  padding: 0;\n",
       "  margin: 0;\n",
       "  float: left;\n",
       "  padding-right: 10px;\n",
       "  width: auto;\n",
       "}\n",
       "\n",
       ".xr-attrs dt {\n",
       "  font-weight: normal;\n",
       "  grid-column: 1;\n",
       "}\n",
       "\n",
       ".xr-attrs dt:hover span {\n",
       "  display: inline-block;\n",
       "  background: var(--xr-background-color);\n",
       "  padding-right: 10px;\n",
       "}\n",
       "\n",
       ".xr-attrs dd {\n",
       "  grid-column: 2;\n",
       "  white-space: pre-wrap;\n",
       "  word-break: break-all;\n",
       "}\n",
       "\n",
       ".xr-icon-database,\n",
       ".xr-icon-file-text2,\n",
       ".xr-no-icon {\n",
       "  display: inline-block;\n",
       "  vertical-align: middle;\n",
       "  width: 1em;\n",
       "  height: 1.5em !important;\n",
       "  stroke-width: 0;\n",
       "  stroke: currentColor;\n",
       "  fill: currentColor;\n",
       "}\n",
       "</style><pre class='xr-text-repr-fallback'>&lt;xarray.DataArray &#x27;S&#x27; (n_s: 108000)&gt; Size: 864kB\n",
       "array([0.31697789, 0.31697789, 0.31697789, ..., 0.19972566, 0.12345803,\n",
       "       0.04223369])\n",
       "Dimensions without coordinates: n_s</pre><div class='xr-wrap' style='display:none'><div class='xr-header'><div class='xr-obj-type'>xarray.DataArray</div><div class='xr-array-name'>'S'</div><ul class='xr-dim-list'><li><span>n_s</span>: 108000</li></ul></div><ul class='xr-sections'><li class='xr-section-item'><div class='xr-array-wrap'><input id='section-127a382b-497d-402b-8202-613ca46718e1' class='xr-array-in' type='checkbox' checked><label for='section-127a382b-497d-402b-8202-613ca46718e1' title='Show/hide data repr'><svg class='icon xr-icon-database'><use xlink:href='#icon-database'></use></svg></label><div class='xr-array-preview xr-preview'><span>0.317 0.317 0.317 0.317 0.2721 ... 0.3386 0.2714 0.1997 0.1235 0.04223</span></div><div class='xr-array-data'><pre>array([0.31697789, 0.31697789, 0.31697789, ..., 0.19972566, 0.12345803,\n",
       "       0.04223369])</pre></div></div></li><li class='xr-section-item'><input id='section-55d28cf2-8b73-4b39-8f7c-09fac05c9104' class='xr-section-summary-in' type='checkbox' disabled ><label for='section-55d28cf2-8b73-4b39-8f7c-09fac05c9104' class='xr-section-summary'  title='Expand/collapse section'>Coordinates: <span>(0)</span></label><div class='xr-section-inline-details'></div><div class='xr-section-details'><ul class='xr-var-list'></ul></div></li><li class='xr-section-item'><input id='section-2266bb72-aa07-4071-bf53-7428f2106638' class='xr-section-summary-in' type='checkbox' disabled ><label for='section-2266bb72-aa07-4071-bf53-7428f2106638' class='xr-section-summary'  title='Expand/collapse section'>Indexes: <span>(0)</span></label><div class='xr-section-inline-details'></div><div class='xr-section-details'><ul class='xr-var-list'></ul></div></li><li class='xr-section-item'><input id='section-bb4b0f7b-fb4e-4252-b5be-1adfbf813c54' class='xr-section-summary-in' type='checkbox' disabled ><label for='section-bb4b0f7b-fb4e-4252-b5be-1adfbf813c54' class='xr-section-summary'  title='Expand/collapse section'>Attributes: <span>(0)</span></label><div class='xr-section-inline-details'></div><div class='xr-section-details'><dl class='xr-attrs'></dl></div></li></ul></div></div>"
      ],
      "text/plain": [
       "<xarray.DataArray 'S' (n_s: 108000)> Size: 864kB\n",
       "array([0.31697789, 0.31697789, 0.31697789, ..., 0.19972566, 0.12345803,\n",
       "       0.04223369])\n",
       "Dimensions without coordinates: n_s"
      ]
     },
     "execution_count": 30,
     "metadata": {},
     "output_type": "execute_result"
    }
   ],
   "source": [
    "weights_ds.S"
   ]
  },
  {
   "cell_type": "code",
   "execution_count": 31,
   "id": "6f9a3110-e931-4421-8c10-2ce70b512a3f",
   "metadata": {
    "execution": {
     "iopub.execute_input": "2025-01-08T22:36:07.541029Z",
     "iopub.status.busy": "2025-01-08T22:36:07.540492Z",
     "iopub.status.idle": "2025-01-08T22:36:07.791324Z",
     "shell.execute_reply": "2025-01-08T22:36:07.789980Z",
     "shell.execute_reply.started": "2025-01-08T22:36:07.541000Z"
    }
   },
   "outputs": [],
   "source": [
    "rm {OUTPUT_F}"
   ]
  },
  {
   "cell_type": "code",
   "execution_count": 32,
   "id": "a8a19fda-5f1f-466a-b829-3048b51b838a",
   "metadata": {
    "execution": {
     "iopub.execute_input": "2025-01-08T22:36:07.794096Z",
     "iopub.status.busy": "2025-01-08T22:36:07.793332Z",
     "iopub.status.idle": "2025-01-08T22:36:07.819828Z",
     "shell.execute_reply": "2025-01-08T22:36:07.818882Z",
     "shell.execute_reply.started": "2025-01-08T22:36:07.794041Z"
    }
   },
   "outputs": [],
   "source": [
    "weights_ds.to_netcdf(OUTPUT_F)"
   ]
  },
  {
   "cell_type": "markdown",
   "id": "334fb568-454b-4ca4-af49-2ac2887d6258",
   "metadata": {},
   "source": [
    "Sanity check out new weights, with unity input again:"
   ]
  },
  {
   "cell_type": "code",
   "execution_count": null,
   "id": "8e18e6dc-ce1f-4d8f-96bb-fa0d2d851d2f",
   "metadata": {},
   "outputs": [],
   "source": []
  },
  {
   "cell_type": "code",
   "execution_count": null,
   "id": "5908aecb-69d8-4cb5-933b-eda7ea6e6b7c",
   "metadata": {},
   "outputs": [],
   "source": []
  },
  {
   "cell_type": "code",
   "execution_count": 33,
   "id": "b2e89de0-381a-45df-808c-3bcd6fb65fc1",
   "metadata": {
    "execution": {
     "iopub.execute_input": "2025-01-08T22:36:07.821694Z",
     "iopub.status.busy": "2025-01-08T22:36:07.821048Z",
     "iopub.status.idle": "2025-01-08T22:36:07.825723Z",
     "shell.execute_reply": "2025-01-08T22:36:07.824829Z",
     "shell.execute_reply.started": "2025-01-08T22:36:07.821663Z"
    }
   },
   "outputs": [],
   "source": [
    "med_in_fld.data[:]=1"
   ]
  },
  {
   "cell_type": "code",
   "execution_count": 34,
   "id": "c1e141e6-abb6-4a39-85ed-e3e7e5d0e4f7",
   "metadata": {
    "execution": {
     "iopub.execute_input": "2025-01-08T22:36:07.827432Z",
     "iopub.status.busy": "2025-01-08T22:36:07.826855Z",
     "iopub.status.idle": "2025-01-08T22:36:07.836632Z",
     "shell.execute_reply": "2025-01-08T22:36:07.835749Z",
     "shell.execute_reply.started": "2025-01-08T22:36:07.827403Z"
    }
   },
   "outputs": [
    {
     "data": {
      "text/plain": [
       "Field:\n",
       "    name = None\n",
       "    type = <TypeKind.R8: 6>\n",
       "    rank = 1\n",
       "    extra dimensions = 0\n",
       "    staggerloc = 1\n",
       "    lower bounds = array([0], dtype=int32)\n",
       "    upper bounds = array([108000], dtype=int32)\n",
       "    extra bounds = None\n",
       "    data = array([1., 1., 1., ..., 1., 1., 1.])\n",
       "    grid = \n",
       "Mesh:\n",
       "    rank = 1\n",
       "    size = [108071, 108000]\n",
       "    size_owned = [108071, 108000]\n",
       "    coords = [[array([ 80.,  81.,  81., ..., 260., 260., 260.]), array([-78.        , -78.        , -77.75316839, ...,  66.23869773,\n",
       "        65.83214327,  65.41931068])], [array([80.5       , 81.5       , 82.5       , ..., 79.95558838,\n",
       "       79.97336385, 79.99112309]), array([-77.87662338, -77.87662338, -77.87662338, ...,  66.03603278,\n",
       "        65.62642645,  65.21044485])]]\n",
       "\n",
       ")"
      ]
     },
     "execution_count": 34,
     "metadata": {},
     "output_type": "execute_result"
    }
   ],
   "source": [
    "med_in_fld"
   ]
  },
  {
   "cell_type": "code",
   "execution_count": 35,
   "id": "a78cf8a5-34f1-4267-a5f7-a889c64da07f",
   "metadata": {
    "execution": {
     "iopub.execute_input": "2025-01-08T22:36:07.837979Z",
     "iopub.status.busy": "2025-01-08T22:36:07.837694Z",
     "iopub.status.idle": "2025-01-08T22:36:08.252316Z",
     "shell.execute_reply": "2025-01-08T22:36:08.251518Z",
     "shell.execute_reply.started": "2025-01-08T22:36:07.837950Z"
    }
   },
   "outputs": [],
   "source": [
    "new_regridder = esmpy.RegridFromFile(\n",
    "    med_in_fld, med_out_fld, \n",
    "    filename = OUTPUT_F ,\n",
    "    # regrid_method=esmpy.RegridMethod.BILINEAR,\n",
    "    # unmapped_action=esmpy.UnmappedAction.IGNORE, #ignore errors about some destination cells not having source cells,\n",
    ")"
   ]
  },
  {
   "cell_type": "code",
   "execution_count": 36,
   "id": "04bcc876-854f-4e58-a8a9-3c8213bbc3ef",
   "metadata": {
    "execution": {
     "iopub.execute_input": "2025-01-08T22:36:08.253303Z",
     "iopub.status.busy": "2025-01-08T22:36:08.253110Z",
     "iopub.status.idle": "2025-01-08T22:36:08.259634Z",
     "shell.execute_reply": "2025-01-08T22:36:08.258833Z",
     "shell.execute_reply.started": "2025-01-08T22:36:08.253285Z"
    }
   },
   "outputs": [
    {
     "data": {
      "text/plain": [
       "Field:\n",
       "    name = None\n",
       "    type = <TypeKind.R8: 6>\n",
       "    rank = 1\n",
       "    extra dimensions = 0\n",
       "    staggerloc = 1\n",
       "    lower bounds = array([0], dtype=int32)\n",
       "    upper bounds = array([108000], dtype=int32)\n",
       "    extra bounds = None\n",
       "    data = array([1.57903375e-05, 1.57903375e-05, 1.57903375e-05, ...,\n",
       "       4.45742961e-06, 2.75530699e-06, 9.42561450e-07])\n",
       "    grid = \n",
       "Mesh:\n",
       "    rank = 1\n",
       "    size = [108071, 108000]\n",
       "    size_owned = [108071, 108000]\n",
       "    coords = [[array([ 80.,  81.,  81., ..., 260., 260., 260.]), array([-78.        , -78.        , -77.75316839, ...,  66.23869773,\n",
       "        65.83214327,  65.41931068])], [array([80.5       , 81.5       , 82.5       , ..., 79.95558838,\n",
       "       79.97336385, 79.99112309]), array([-77.87662338, -77.87662338, -77.87662338, ...,  66.03603278,\n",
       "        65.62642645,  65.21044485])]]\n",
       "\n",
       ")"
      ]
     },
     "execution_count": 36,
     "metadata": {},
     "output_type": "execute_result"
    }
   ],
   "source": [
    "med_out_fld"
   ]
  },
  {
   "cell_type": "code",
   "execution_count": 37,
   "id": "ec8efa97-b937-4c66-8697-460f40645fa0",
   "metadata": {
    "execution": {
     "iopub.execute_input": "2025-01-08T22:36:08.261977Z",
     "iopub.status.busy": "2025-01-08T22:36:08.261034Z",
     "iopub.status.idle": "2025-01-08T22:36:08.272630Z",
     "shell.execute_reply": "2025-01-08T22:36:08.271600Z",
     "shell.execute_reply.started": "2025-01-08T22:36:08.261928Z"
    }
   },
   "outputs": [
    {
     "data": {
      "text/plain": [
       "Field:\n",
       "    name = None\n",
       "    type = <TypeKind.R8: 6>\n",
       "    rank = 1\n",
       "    extra dimensions = 0\n",
       "    staggerloc = 1\n",
       "    lower bounds = array([0], dtype=int32)\n",
       "    upper bounds = array([108000], dtype=int32)\n",
       "    extra bounds = None\n",
       "    data = array([0., 0., 0., ..., 0., 0., 0.])\n",
       "    grid = \n",
       "Mesh:\n",
       "    rank = 1\n",
       "    size = [108071, 108000]\n",
       "    size_owned = [108071, 108000]\n",
       "    coords = [[array([ 80.,  81.,  81., ..., 260., 260., 260.]), array([-78.        , -78.        , -77.75316839, ...,  66.23869773,\n",
       "        65.83214327,  65.41931068])], [array([80.5       , 81.5       , 82.5       , ..., 79.95558838,\n",
       "       79.97336385, 79.99112309]), array([-77.87662338, -77.87662338, -77.87662338, ...,  66.03603278,\n",
       "        65.62642645,  65.21044485])]]\n",
       "\n",
       ")"
      ]
     },
     "execution_count": 37,
     "metadata": {},
     "output_type": "execute_result"
    }
   ],
   "source": [
    "new_regridder(med_in_fld, med_out_fld)"
   ]
  },
  {
   "cell_type": "code",
   "execution_count": null,
   "id": "bf9bc022-121a-4b85-a451-79328b1c0560",
   "metadata": {},
   "outputs": [],
   "source": []
  },
  {
   "cell_type": "code",
   "execution_count": 38,
   "id": "bd94557b-63d8-44a9-b98c-c0bdf2ea8a35",
   "metadata": {
    "execution": {
     "iopub.execute_input": "2025-01-08T22:36:08.274903Z",
     "iopub.status.busy": "2025-01-08T22:36:08.274156Z",
     "iopub.status.idle": "2025-01-08T22:36:09.303769Z",
     "shell.execute_reply": "2025-01-08T22:36:09.303036Z",
     "shell.execute_reply.started": "2025-01-08T22:36:08.274855Z"
    }
   },
   "outputs": [
    {
     "data": {
      "text/plain": [
       "<matplotlib.colorbar.Colorbar at 0x153ad0b128c0>"
      ]
     },
     "execution_count": 38,
     "metadata": {},
     "output_type": "execute_result"
    },
    {
     "data": {
      "image/png": "[encoded data removed]",
      "text/plain": [
       "<Figure size 640x480 with 2 Axes>"
      ]
     },
     "metadata": {},
     "output_type": "display_data"
    }
   ],
   "source": [
    "plt.pcolor(np.reshape(med_out_fld.data,(300,360)), vmax=5)\n",
    "plt.colorbar()"
   ]
  },
  {
   "cell_type": "code",
   "execution_count": null,
   "id": "33f4dd31-d7c9-41ed-983c-aedcfa00df5c",
   "metadata": {},
   "outputs": [],
   "source": []
  },
  {
   "cell_type": "code",
   "execution_count": 39,
   "id": "37ff91ce-ba72-4485-b459-84368baca712",
   "metadata": {
    "execution": {
     "iopub.execute_input": "2025-01-08T22:36:09.304750Z",
     "iopub.status.busy": "2025-01-08T22:36:09.304553Z",
     "iopub.status.idle": "2025-01-08T22:36:09.317822Z",
     "shell.execute_reply": "2025-01-08T22:36:09.316510Z",
     "shell.execute_reply.started": "2025-01-08T22:36:09.304730Z"
    }
   },
   "outputs": [
    {
     "data": {
      "text/plain": [
       "108000.0"
      ]
     },
     "execution_count": 39,
     "metadata": {},
     "output_type": "execute_result"
    }
   ],
   "source": [
    "sum(med_in_fld.data)"
   ]
  },
  {
   "cell_type": "code",
   "execution_count": 40,
   "id": "56d25329-7c02-4faa-a2e1-9307654479d0",
   "metadata": {
    "execution": {
     "iopub.execute_input": "2025-01-08T22:36:09.320265Z",
     "iopub.status.busy": "2025-01-08T22:36:09.319435Z",
     "iopub.status.idle": "2025-01-08T22:36:09.345045Z",
     "shell.execute_reply": "2025-01-08T22:36:09.344200Z",
     "shell.execute_reply.started": "2025-01-08T22:36:09.320210Z"
    }
   },
   "outputs": [
    {
     "data": {
      "text/plain": [
       "110021.44810549436"
      ]
     },
     "execution_count": 40,
     "metadata": {},
     "output_type": "execute_result"
    }
   ],
   "source": [
    "sum(med_out_fld.data)"
   ]
  },
  {
   "cell_type": "code",
   "execution_count": 41,
   "id": "80d08a4c-bb04-4b47-a632-fef7daf12239",
   "metadata": {
    "execution": {
     "iopub.execute_input": "2025-01-08T22:36:09.354193Z",
     "iopub.status.busy": "2025-01-08T22:36:09.353208Z",
     "iopub.status.idle": "2025-01-08T22:36:09.379983Z",
     "shell.execute_reply": "2025-01-08T22:36:09.378807Z",
     "shell.execute_reply.started": "2025-01-08T22:36:09.354143Z"
    }
   },
   "outputs": [
    {
     "data": {
      "text/plain": [
       "12.429074684245569"
      ]
     },
     "execution_count": 41,
     "metadata": {},
     "output_type": "execute_result"
    }
   ],
   "source": [
    "sum(med_in_fld.data*area)"
   ]
  },
  {
   "cell_type": "code",
   "execution_count": 42,
   "id": "73c3d05b-6532-4f93-9152-701729efd55e",
   "metadata": {
    "execution": {
     "iopub.execute_input": "2025-01-08T22:36:09.381274Z",
     "iopub.status.busy": "2025-01-08T22:36:09.381016Z",
     "iopub.status.idle": "2025-01-08T22:36:09.396517Z",
     "shell.execute_reply": "2025-01-08T22:36:09.395721Z",
     "shell.execute_reply.started": "2025-01-08T22:36:09.381247Z"
    }
   },
   "outputs": [
    {
     "data": {
      "text/plain": [
       "12.429074684243966"
      ]
     },
     "execution_count": 42,
     "metadata": {},
     "output_type": "execute_result"
    }
   ],
   "source": [
    "sum(med_out_fld.data*area)"
   ]
  },
  {
   "cell_type": "code",
   "execution_count": 43,
   "id": "643290c9-7fbf-40b7-86ce-507b045a954e",
   "metadata": {
    "execution": {
     "iopub.execute_input": "2025-01-08T22:36:09.397470Z",
     "iopub.status.busy": "2025-01-08T22:36:09.397289Z",
     "iopub.status.idle": "2025-01-08T22:36:10.398693Z",
     "shell.execute_reply": "2025-01-08T22:36:10.397857Z",
     "shell.execute_reply.started": "2025-01-08T22:36:09.397452Z"
    }
   },
   "outputs": [
    {
     "data": {
      "text/plain": [
       "<matplotlib.colorbar.Colorbar at 0x153a9931be80>"
      ]
     },
     "execution_count": 43,
     "metadata": {},
     "output_type": "execute_result"
    },
    {
     "data": {
      "image/png": "[encoded data removed]",
      "text/plain": [
       "<Figure size 640x480 with 2 Axes>"
      ]
     },
     "metadata": {},
     "output_type": "display_data"
    }
   ],
   "source": [
    "plt.pcolor(np.reshape(mod_mesh_ds.elementMask.values,(300,360)), vmax=5)\n",
    "plt.colorbar()"
   ]
  },
  {
   "cell_type": "markdown",
   "id": "7881d482-4338-48d7-a97f-fcd81a514005",
   "metadata": {},
   "source": [
    "Confirm that no everywhere runoff is non-zero is ocean:"
   ]
  },
  {
   "cell_type": "code",
   "execution_count": 44,
   "id": "2ec1377d-ec69-4539-a67b-0890f790ed3d",
   "metadata": {
    "execution": {
     "iopub.execute_input": "2025-01-08T22:36:10.399893Z",
     "iopub.status.busy": "2025-01-08T22:36:10.399706Z",
     "iopub.status.idle": "2025-01-08T22:36:12.743591Z",
     "shell.execute_reply": "2025-01-08T22:36:12.741801Z",
     "shell.execute_reply.started": "2025-01-08T22:36:10.399874Z"
    }
   },
   "outputs": [],
   "source": [
    "assert all((med_out_fld.data!=0).astype(int)==mod_mesh_ds.elementMask)"
   ]
  },
  {
   "cell_type": "code",
   "execution_count": null,
   "id": "b696cd13-348a-4bf9-bc93-c69bf05ee63f",
   "metadata": {},
   "outputs": [],
   "source": []
  }
 ],
 "metadata": {
  "kernelspec": {
   "display_name": "Python [conda env:analysis3-unstable]",
   "language": "python",
   "name": "conda-env-analysis3-unstable-py"
  },
  "language_info": {
   "codemirror_mode": {
    "name": "ipython",
    "version": 3
   },
   "file_extension": ".py",
   "mimetype": "text/x-python",
   "name": "python",
   "nbconvert_exporter": "python",
   "pygments_lexer": "ipython3",
   "version": "3.10.16"
  }
 },
 "nbformat": 4,
 "nbformat_minor": 5
}
